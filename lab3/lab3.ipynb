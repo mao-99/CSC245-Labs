{
 "cells": [
  {
   "cell_type": "markdown",
   "source": [
    "1. Write a Pandas program to join the two given dataframes along rows and assign all data.\n",
    "Test Data:\n",
    "student_data1:\n",
    "  student_id              name  marks\n",
    "0         S1  Danniella Fenton    200\n",
    "1         S2      Ryder Storey    210\n",
    "2         S3      Bryce Jensen    190\n",
    "3         S4         Ed Bernal    222\n",
    "4         S5       Kwame Morin    199\n",
    "student_data2:\n",
    "  student_id              name  marks\n",
    "0         S4  Scarlette Fisher    201\n",
    "1         S5  Carla Williamson    200\n",
    "2         S6       Dante Morse    198\n",
    "3         S7    Kaiser William    219\n",
    "4         S8   Madeeha Preston    201\n",
    "2. Write a Pandas program to join the two given dataframes along columns and assign all data.\n",
    "Test Data:\n",
    "student_data1:\n",
    "  student_id              name  marks\n",
    "0         S1  Danniella Fenton    200\n",
    "1         S2      Ryder Storey    210\n",
    "2         S3      Bryce Jensen    190\n",
    "3         S4         Ed Bernal    222\n",
    "4         S5       Kwame Morin    199\n",
    "student_data2:\n",
    "  student_id              name  marks\n",
    "0         S4  Scarlette Fisher    201\n",
    "1         S5  Carla Williamson    200\n",
    "2         S6       Dante Morse    198\n",
    "3         S7    Kaiser William    219\n",
    "4         S8   Madeeha Preston    201\n",
    "3. Write a Pandas program to append rows to an existing DataFrame and display the combined data.\n",
    "Test Data:\n",
    "tudent_data1\n",
    "  student_id              name  marks\n",
    "0         S1  Danniella Fenton    200\n",
    "1         S2      Ryder Storey    210\n",
    "2         S3      Bryce Jensen    190\n",
    "3         S4         Ed Bernal    222\n",
    "4         S5       Kwame Morin    199\n",
    "New Row(s)\n",
    "student_id                  S6\n",
    "name          Scarlette Fisher\n",
    "marks                      205\n",
    "dtype: object\n",
    "4. Write a Pandas program to append a list of dictioneries or series to a existing DataFrame and display the combined data.\n",
    "Test Data:\n",
    " student_id              name  marks\n",
    "0         S1  Danniella Fenton    200\n",
    "1         S2      Ryder Storey    210\n",
    "2         S3      Bryce Jensen    190\n",
    "3         S4         Ed Bernal    222\n",
    "4         S5       Kwame Morin    199\n",
    "Dictionary:\n",
    "student_id                  S6\n",
    "name          Scarlette Fisher\n",
    "marks                      205\n",
    "dtype: object\n",
    "5. Write a Pandas program to join the two given dataframes along rows and merge with another dataframe along the common column id.\n",
    "Test Data:\n",
    "student_data1:\n",
    "  student_id              name  marks\n",
    "0         S1  Danniella Fenton    200\n",
    "1         S2      Ryder Storey    210\n",
    "2         S3      Bryce Jensen    190\n",
    "3         S4         Ed Bernal    222\n",
    "4         S5       Kwame Morin    199\n",
    "student_data2:\n",
    "  student_id              name  marks\n",
    "0         S4  Scarlette Fisher    201\n",
    "1         S5  Carla Williamson    200\n",
    "2         S6       Dante Morse    198\n",
    "3         S7    Kaiser William    219\n",
    "4         S8   Madeeha Preston    201\n",
    "exam_data:\n",
    "   student_id  exam_id\n",
    "0          S1       23\n",
    "1          S2       45\n",
    "2          S3       12\n",
    "3          S4       67\n",
    "4          S5       21\n",
    "5          S7       55\n",
    "6          S8       33\n",
    "7          S9       14\n",
    "8         S10       56\n",
    "9         S11       83\n",
    "10        S12       88\n",
    "11        S13       12\n",
    "6. Write a Pandas program to join the two dataframes using the common column of both dataframes.\n",
    "Test Data:\n",
    "student_data1:\n",
    "  student_id              name  marks\n",
    "0         S1  Danniella Fenton    200\n",
    "1         S2      Ryder Storey    210\n",
    "2         S3      Bryce Jensen    190\n",
    "3         S4         Ed Bernal    222\n",
    "4         S5       Kwame Morin    199\n",
    "student_data2:\n",
    "  student_id              name  marks\n",
    "0         S4  Scarlette Fisher    201\n",
    "1         S5  Carla Williamson    200\n",
    "2         S6       Dante Morse    198\n",
    "3         S7    Kaiser William    219\n",
    "4         S8   Madeeha Preston    201\n",
    "7. Write a Pandas program to join the two dataframes with matching records from both sides where available.\n",
    "Test Data:\n",
    "student_data1:\n",
    "  student_id              name  marks\n",
    "0         S1  Danniella Fenton    200\n",
    "1         S2      Ryder Storey    210\n",
    "2         S3      Bryce Jensen    190\n",
    "3         S4         Ed Bernal    222\n",
    "4         S5       Kwame Morin    199\n",
    "student_data2:\n",
    "  student_id              name  marks\n",
    "0         S4  Scarlette Fisher    201\n",
    "1         S5  Carla Williamson    200\n",
    "2         S6       Dante Morse    198\n",
    "3         S7    Kaiser William    219\n",
    "4         S8   Madeeha Preston    201\n",
    "8. Write a Pandas program to join (left join) the two dataframes using keys from left dataframe only.\n",
    "Test Data:\n",
    "data1:\n",
    "  key1 key2   P   Q\n",
    "0   K0   K0  P0  Q0\n",
    "1   K0   K1  P1  Q1\n",
    "2   K1   K0  P2  Q2\n",
    "3   K2   K1  P3  Q3\n",
    "data2:\n",
    "  key1 key2   R   S\n",
    "0   K0   K0  R0  S0\n",
    "1   K1   K0  R1  S1\n",
    "2   K1   K0  R2  S2\n",
    "3   K2   K0  R3  S3\n",
    "9. Write a Pandas program to join two dataframes using keys from right dataframe only.\n",
    "Test Data:\n",
    "data1:\n",
    "  key1 key2   P   Q\n",
    "0   K0   K0  P0  Q0\n",
    "1   K0   K1  P1  Q1\n",
    "2   K1   K0  P2  Q2\n",
    "3   K2   K1  P3  Q3\n",
    "data2:\n",
    "  key1 key2   R   S\n",
    "0   K0   K0  R0  S0\n",
    "1   K1   K0  R1  S1\n",
    "2   K1   K0  R2  S2\n",
    "3   K2   K0  R3  S3\n",
    "10. Write a Pandas program to merge two given datasets using multiple join keys.\n",
    "Test Data:\n",
    "data1:\n",
    "  key1 key2   P   Q\n",
    "0   K0   K0  P0  Q0\n",
    "1   K0   K1  P1  Q1\n",
    "2   K1   K0  P2  Q2\n",
    "3   K2   K1  P3  Q3\n",
    "data2:\n",
    "  key1 key2   R   S\n",
    "0   K0   K0  R0  S0\n",
    "1   K1   K0  R1  S1\n",
    "2   K1   K0  R2  S2\n",
    "3   K2   K0  R3  S3\n",
    "11. Write a Pandas program to create a new DataFrame based on existing series, using specified argument and override the existing columns names.\n",
    "12. Write a Pandas program to create a combination from two dataframes where a column id combination appears more than once in both dataframes.\n",
    "Test Data:\n",
    "data1:\n",
    "  key1 key2   P   Q\n",
    "0   K0   K0  P0  Q0\n",
    "1   K0   K1  P1  Q1\n",
    "2   K1   K0  P2  Q2\n",
    "3   K2   K1  P3  Q3\n",
    "data2:\n",
    "  key1 key2   R   S\n",
    "0   K0   K0  R0  S0\n",
    "1   K1   K0  R1  S1\n",
    "2   K1   K0  R2  S2\n",
    "3   K2   K0  R3  S3\n",
    "13. Write a Pandas program to combine the columns of two potentially differently-indexed DataFrames into a single result DataFrame.\n",
    "Test Data:\n",
    "data1:\n",
    "     A   B\n",
    "K0  A0  B0\n",
    "K1  A1  B1\n",
    "K2  A2  B2\n",
    "data2:\n",
    "     C   D\n",
    "K0  C0  D0\n",
    "K2  C2  D2\n",
    "K3  C3  D3\n",
    "14. Write a Pandas program to merge two given dataframes with different columns.\n",
    "Test Data:\n",
    "data1:\n",
    "  key1 key2   P   Q\n",
    "0   K0   K0  P0  Q0\n",
    "1   K0   K1  P1  Q1\n",
    "2   K1   K0  P2  Q2\n",
    "3   K2   K1  P3  Q3\n",
    "data2:\n",
    "  key1 key2   R   S\n",
    "0   K0   K0  R0  S0\n",
    "1   K1   K0  R1  S1\n",
    "2   K1   K0  R2  S2\n",
    "3   K2   K0  R3  S3\n",
    "15. Write a Pandas program to Combine two DataFrame objects by filling null values in one DataFrame with non-null values from other DataFrame.\n",
    "Test Data:\n",
    "Original DataFrames:\n",
    "     A  B\n",
    "0  NaN  3\n",
    "1  0.0  4\n",
    "2  NaN  5\n",
    "  A    B\n",
    "0  1  3.0\n",
    "1  1  NaN\n",
    "2  3  3.0"
   ],
   "metadata": {
    "collapsed": false
   },
   "id": "c6ebc05625fb937f"
  },
  {
   "cell_type": "code",
   "execution_count": 1,
   "id": "initial_id",
   "metadata": {
    "collapsed": true,
    "ExecuteTime": {
     "end_time": "2024-03-15T03:10:08.457071Z",
     "start_time": "2024-03-15T03:10:07.199558Z"
    }
   },
   "outputs": [],
   "source": [
    "import pandas as pd"
   ]
  },
  {
   "cell_type": "markdown",
   "source": [
    "1. Write a Pandas program to join the two given dataframes along rows and assign all data.\n",
    "Test Data:\n",
    "student_data1:\n",
    "  student_id              name  marks\n",
    "0         S1  Danniella Fenton    200\n",
    "1         S2      Ryder Storey    210\n",
    "2         S3      Bryce Jensen    190\n",
    "3         S4         Ed Bernal    222\n",
    "4         S5       Kwame Morin    199\n",
    "student_data2:\n",
    "  student_id              name  marks\n",
    "0         S4  Scarlette Fisher    201\n",
    "1         S5  Carla Williamson    200\n",
    "2         S6       Dante Morse    198\n",
    "3         S7    Kaiser William    219\n",
    "4         S8   Madeeha Preston    201"
   ],
   "metadata": {
    "collapsed": false
   },
   "id": "67bac3f4464ba4f0"
  },
  {
   "cell_type": "markdown",
   "source": [],
   "metadata": {
    "collapsed": false
   },
   "id": "65c5f77e9c362d71"
  },
  {
   "cell_type": "code",
   "outputs": [
    {
     "name": "stdout",
     "output_type": "stream",
     "text": [
      "  student_id              name  marks\n",
      "0         S1  Danniella Fenton    200\n",
      "1         S2      Ryder Storey    210\n",
      "2         S3      Bryce Jensen    190\n",
      "3         S4         Ed Bernal    222\n",
      "4         S5       Kwame Morin    199\n",
      "5         S6          John Doe    205\n",
      "6         S7        Jane Smith    198\n",
      "7         S8     Alice Johnson    215\n",
      "8         S9         Bob Brown    190\n",
      "9        S10       Emily Davis    205\n"
     ]
    }
   ],
   "source": [
    "import pandas \n",
    "\n",
    "data1 = {\n",
    "    'student_id': ['S1', 'S2', 'S3', 'S4', 'S5'],\n",
    "    'name': ['Danniella Fenton', 'Ryder Storey', 'Bryce Jensen', 'Ed Bernal', 'Kwame Morin'],\n",
    "    'marks': [200, 210, 190, 222, 199]\n",
    "}\n",
    "\n",
    "data2 = {\n",
    "    'student_id': ['S6', 'S7', 'S8', 'S9', 'S10'],\n",
    "    'name': ['John Doe', 'Jane Smith', 'Alice Johnson', 'Bob Brown', 'Emily Davis'],\n",
    "    'marks': [205, 198, 215, 190, 205]\n",
    "}\n",
    "\n",
    "dataFrame1=pd.DataFrame(data1)\n",
    "dataFrame2=pd.DataFrame(data2)\n",
    "\n",
    "dataFrameJoined=pd.concat([dataFrame1, dataFrame2], ignore_index=True);\n",
    "print(dataFrameJoined)"
   ],
   "metadata": {
    "collapsed": false,
    "ExecuteTime": {
     "end_time": "2024-03-15T03:10:08.503715Z",
     "start_time": "2024-03-15T03:10:08.475465Z"
    }
   },
   "id": "fb8e6e5e5fb99f96",
   "execution_count": 2
  },
  {
   "cell_type": "markdown",
   "source": [
    " Write a Pandas program to join the two given dataframes along columns and assign all data.\n",
    "Test Data:\n",
    "student_data1:\n",
    "  student_id              name  marks\n",
    "0         S1  Danniella Fenton    200\n",
    "1         S2      Ryder Storey    210\n",
    "2         S3      Bryce Jensen    190\n",
    "3         S4         Ed Bernal    222\n",
    "4         S5       Kwame Morin    199\n",
    "student_data2:\n",
    "  student_id              name  marks\n",
    "0         S4  Scarlette Fisher    201\n",
    "1         S5  Carla Williamson    200\n",
    "2         S6       Dante Morse    198\n",
    "3         S7    Kaiser William    219\n",
    "4         S8   Madeeha Preston    201"
   ],
   "metadata": {
    "collapsed": false
   },
   "id": "a3758228ef2798ec"
  },
  {
   "cell_type": "code",
   "outputs": [
    {
     "name": "stdout",
     "output_type": "stream",
     "text": [
      "  student_id            name_x  marks_x         name_y  marks_y\n",
      "0         S1  Danniella Fenton    200.0            NaN      NaN\n",
      "1        S10               NaN      NaN    Emily Davis    205.0\n",
      "2         S2      Ryder Storey    210.0            NaN      NaN\n",
      "3         S3      Bryce Jensen    190.0            NaN      NaN\n",
      "4         S4         Ed Bernal    222.0            NaN      NaN\n",
      "5         S5       Kwame Morin    199.0            NaN      NaN\n",
      "6         S6               NaN      NaN       John Doe    205.0\n",
      "7         S7               NaN      NaN     Jane Smith    198.0\n",
      "8         S8               NaN      NaN  Alice Johnson    215.0\n",
      "9         S9               NaN      NaN      Bob Brown    190.0\n"
     ]
    }
   ],
   "source": [
    "dataFrameJoined=pd.merge(dataFrame1, dataFrame2, on=\"student_id\", how=\"outer\")\n",
    "\n",
    "print(dataFrameJoined)\n"
   ],
   "metadata": {
    "collapsed": false,
    "ExecuteTime": {
     "end_time": "2024-03-15T03:10:08.610166Z",
     "start_time": "2024-03-15T03:10:08.508919Z"
    }
   },
   "id": "ed7d08667ae022fd",
   "execution_count": 3
  },
  {
   "cell_type": "markdown",
   "source": [
    "Write a Pandas program to append rows to an existing DataFrame and display the combined data.\n",
    "Test Data:\n",
    "tudent_data1\n",
    "  student_id              name  marks\n",
    "0         S1  Danniella Fenton    200\n",
    "1         S2      Ryder Storey    210\n",
    "2         S3      Bryce Jensen    190\n",
    "3         S4         Ed Bernal    222\n",
    "4         S5       Kwame Morin    199\n",
    "New Row(s)\n",
    "student_id                  S6\n",
    "name          Scarlette Fisher\n",
    "marks                      205\n",
    "dtype: object"
   ],
   "metadata": {
    "collapsed": false
   },
   "id": "ea7b750651cc3469"
  },
  {
   "cell_type": "markdown",
   "source": [],
   "metadata": {
    "collapsed": false
   },
   "id": "8bd505e27ca5c22b"
  },
  {
   "cell_type": "code",
   "outputs": [
    {
     "name": "stdout",
     "output_type": "stream",
     "text": [
      "  student_id              name  marks\n",
      "0         S1  Danniella Fenton    200\n",
      "1         S2      Ryder Storey    210\n",
      "2         S3      Bryce Jensen    190\n",
      "3         S4         Ed Bernal    222\n",
      "4         S5       Kwame Morin    199\n",
      "5         S6  Scarlette Fisher    205\n"
     ]
    }
   ],
   "source": [
    "new_row = pd.DataFrame({'student_id': ['S6'], 'name': ['Scarlette Fisher'], 'marks': [205]})\n",
    "\n",
    "newDataFrame1=pd.concat([dataFrame1, new_row], ignore_index=True)\n",
    "print(newDataFrame1)"
   ],
   "metadata": {
    "collapsed": false,
    "ExecuteTime": {
     "end_time": "2024-03-15T03:10:08.659955Z",
     "start_time": "2024-03-15T03:10:08.602684Z"
    }
   },
   "id": "a510a572765b6df4",
   "execution_count": 4
  },
  {
   "cell_type": "markdown",
   "source": [
    "Write a Pandas program to append a list of dictioneries or series to a existing DataFrame and display the combined data.\n",
    "Test Data:\n",
    " student_id              name  marks\n",
    "0         S1  Danniella Fenton    200\n",
    "1         S2      Ryder Storey    210\n",
    "2         S3      Bryce Jensen    190\n",
    "3         S4         Ed Bernal    222\n",
    "4         S5       Kwame Morin    199\n",
    "Dictionary:\n",
    "student_id                  S6\n",
    "name          Scarlette Fisher\n",
    "marks                      205\n",
    "dtype: object"
   ],
   "metadata": {
    "collapsed": false
   },
   "id": "cba8aa26afa99661"
  },
  {
   "cell_type": "code",
   "outputs": [
    {
     "name": "stdout",
     "output_type": "stream",
     "text": [
      "  student_id              name  marks\n",
      "0         S1  Danniella Fenton    200\n",
      "1         S2      Ryder Storey    210\n",
      "2         S3      Bryce Jensen    190\n",
      "3         S4         Ed Bernal    222\n",
      "4         S5       Kwame Morin    199\n",
      "5         S6  Scarlette Fisher    205\n"
     ]
    }
   ],
   "source": [
    "new_row = pd.DataFrame({'student_id': ['S6'], 'name': ['Scarlette Fisher'], 'marks': [205]})\n",
    "\n",
    "newDataFrame1=pd.concat([dataFrame1, new_row], ignore_index=True)\n",
    "print(newDataFrame1)"
   ],
   "metadata": {
    "collapsed": false,
    "ExecuteTime": {
     "end_time": "2024-03-15T03:10:08.692083Z",
     "start_time": "2024-03-15T03:10:08.650163Z"
    }
   },
   "id": "a4f328ef8a2fed95",
   "execution_count": 5
  },
  {
   "cell_type": "markdown",
   "source": [
    "Write a Pandas program to join the two given dataframes along rows and merge with another dataframe along the common column id.\n",
    "Test Data:\n",
    "student_data1:\n",
    "  student_id              name  marks\n",
    "0         S1  Danniella Fenton    200\n",
    "1         S2      Ryder Storey    210\n",
    "2         S3      Bryce Jensen    190\n",
    "3         S4         Ed Bernal    222\n",
    "4         S5       Kwame Morin    199\n",
    "student_data2:\n",
    "  student_id              name  marks\n",
    "0         S4  Scarlette Fisher    201\n",
    "1         S5  Carla Williamson    200\n",
    "2         S6       Dante Morse    198\n",
    "3         S7    Kaiser William    219\n",
    "4         S8   Madeeha Preston    201\n",
    "exam_data:\n",
    "   student_id  exam_id\n",
    "0          S1       23\n",
    "1          S2       45\n",
    "2          S3       12\n",
    "3          S4       67\n",
    "4          S5       21\n",
    "5          S7       55\n",
    "6          S8       33\n",
    "7          S9       14\n",
    "8         S10       56\n",
    "9         S11       83\n",
    "10        S12       88\n",
    "11        S13       12"
   ],
   "metadata": {
    "collapsed": false
   },
   "id": "6cf5a7e0cc925f66"
  },
  {
   "cell_type": "code",
   "outputs": [
    {
     "name": "stdout",
     "output_type": "stream",
     "text": [
      "   student_id              name  marks  exam_id\n",
      "0          S1  Danniella Fenton  200.0     23.0\n",
      "1         S10       Emily Davis  205.0     56.0\n",
      "2         S11               NaN    NaN     83.0\n",
      "3         S12               NaN    NaN     88.0\n",
      "4         S13               NaN    NaN     12.0\n",
      "5          S2      Ryder Storey  210.0     45.0\n",
      "6          S3      Bryce Jensen  190.0     12.0\n",
      "7          S4         Ed Bernal  222.0     67.0\n",
      "8          S5       Kwame Morin  199.0     21.0\n",
      "9          S6          John Doe  205.0      NaN\n",
      "10         S7        Jane Smith  198.0     55.0\n",
      "11         S8     Alice Johnson  215.0     33.0\n",
      "12         S9         Bob Brown  190.0     14.0\n"
     ]
    }
   ],
   "source": [
    "combinedFrame=pd.concat([dataFrame1, dataFrame2], ignore_index=True)\n",
    "examData={\n",
    "    'student_id': ['S1', 'S2', 'S3', 'S4', 'S5', 'S7', 'S8', 'S9', 'S10', 'S11', 'S12', 'S13'],\n",
    "    'exam_id': [23, 45, 12, 67, 21, 55, 33, 14, 56, 83, 88, 12]\n",
    "}\n",
    "\n",
    "examDf = pd.DataFrame(examData)\n",
    "\n",
    "print(pd.merge(combinedFrame, examDf, on='student_id', how='outer'))\n"
   ],
   "metadata": {
    "collapsed": false,
    "ExecuteTime": {
     "end_time": "2024-03-15T03:10:08.787868Z",
     "start_time": "2024-03-15T03:10:08.682410Z"
    }
   },
   "id": "6b55992c8ee58f6d",
   "execution_count": 6
  },
  {
   "cell_type": "markdown",
   "source": [
    "Write a Pandas program to join the two dataframes with matching records from both sides where available.\n",
    "Test Data:\n",
    "student_data1:\n",
    "  student_id              name  marks\n",
    "0         S1  Danniella Fenton    200\n",
    "1         S2      Ryder Storey    210\n",
    "2         S3      Bryce Jensen    190\n",
    "3         S4         Ed Bernal    222\n",
    "4         S5       Kwame Morin    199\n",
    "student_data2:\n",
    "  student_id              name  marks\n",
    "0         S4  Scarlette Fisher    201\n",
    "1         S5  Carla Williamson    200\n",
    "2         S6       Dante Morse    198\n",
    "3         S7    Kaiser William    219\n",
    "4         S8   Madeeha Preston    201"
   ],
   "metadata": {
    "collapsed": false
   },
   "id": "fd1fe87067327ea3"
  },
  {
   "cell_type": "code",
   "outputs": [
    {
     "name": "stdout",
     "output_type": "stream",
     "text": [
      "  student_id            name_x  marks_x         name_y  marks_y\n",
      "0         S1  Danniella Fenton    200.0            NaN      NaN\n",
      "1        S10               NaN      NaN    Emily Davis    205.0\n",
      "2         S2      Ryder Storey    210.0            NaN      NaN\n",
      "3         S3      Bryce Jensen    190.0            NaN      NaN\n",
      "4         S4         Ed Bernal    222.0            NaN      NaN\n",
      "5         S5       Kwame Morin    199.0            NaN      NaN\n",
      "6         S6               NaN      NaN       John Doe    205.0\n",
      "7         S7               NaN      NaN     Jane Smith    198.0\n",
      "8         S8               NaN      NaN  Alice Johnson    215.0\n",
      "9         S9               NaN      NaN      Bob Brown    190.0\n"
     ]
    }
   ],
   "source": [
    "outerJoin=pd.merge(dataFrame1, dataFrame2, on=\"student_id\", how=\"outer\")\n",
    "print(outerJoin)"
   ],
   "metadata": {
    "collapsed": false,
    "ExecuteTime": {
     "end_time": "2024-03-15T03:10:08.814472Z",
     "start_time": "2024-03-15T03:10:08.720986Z"
    }
   },
   "id": "5f886ca95fcc0dac",
   "execution_count": 7
  },
  {
   "cell_type": "markdown",
   "source": [
    "Write a Pandas program to join (left join) the two dataframes using keys from left dataframe only.\n",
    "Test Data:\n",
    "data1:\n",
    "  key1 key2   P   Q\n",
    "0   K0   K0  P0  Q0\n",
    "1   K0   K1  P1  Q1\n",
    "2   K1   K0  P2  Q2\n",
    "3   K2   K1  P3  Q3\n",
    "data2:\n",
    "  key1 key2   R   S\n",
    "0   K0   K0  R0  S0\n",
    "1   K1   K0  R1  S1\n",
    "2   K1   K0  R2  S2\n",
    "3   K2   K0  R3  S3"
   ],
   "metadata": {
    "collapsed": false
   },
   "id": "b61cbc24566bcbff"
  },
  {
   "cell_type": "code",
   "outputs": [
    {
     "name": "stdout",
     "output_type": "stream",
     "text": [
      "  key1 key2_x   P   Q key2_y   R   S\n",
      "0   K0     K0  P0  Q0     K0  R0  S0\n",
      "1   K0     K1  P1  Q1     K0  R0  S0\n",
      "2   K1     K0  P2  Q2     K0  R1  S1\n",
      "3   K1     K0  P2  Q2     K0  R2  S2\n",
      "4   K2     K1  P3  Q3     K0  R3  S3\n"
     ]
    }
   ],
   "source": [
    "\n",
    "data1 = {\n",
    "    'key1': ['K0', 'K0', 'K1', 'K2'],\n",
    "    'key2': ['K0', 'K1', 'K0', 'K1'],\n",
    "    'P': ['P0', 'P1', 'P2', 'P3'],\n",
    "    'Q': ['Q0', 'Q1', 'Q2', 'Q3']\n",
    "}\n",
    "\n",
    "\n",
    "data2 = {\n",
    "    'key1': ['K0', 'K1', 'K1', 'K2'],\n",
    "    'key2': ['K0', 'K0', 'K0', 'K0'],\n",
    "    'R': ['R0', 'R1', 'R2', 'R3'],\n",
    "    'S': ['S0', 'S1', 'S2', 'S3']\n",
    "}\n",
    "\n",
    "\n",
    "df1 = pd.DataFrame(data1)\n",
    "df2 = pd.DataFrame(data2)\n",
    "\n",
    "dfJoined=pd.merge(df1, df2, on='key1', how='left')\n",
    "print(dfJoined)"
   ],
   "metadata": {
    "collapsed": false,
    "ExecuteTime": {
     "end_time": "2024-03-15T03:29:24.832523Z",
     "start_time": "2024-03-15T03:29:24.796145Z"
    }
   },
   "id": "d5e0e9cdd83ba617",
   "execution_count": 15
  },
  {
   "cell_type": "markdown",
   "source": [
    "Write a Pandas program to join two dataframes using keys from right dataframe only.\n",
    "Test Data:\n",
    "data1:\n",
    "  key1 key2   P   Q\n",
    "0   K0   K0  P0  Q0\n",
    "1   K0   K1  P1  Q1\n",
    "2   K1   K0  P2  Q2\n",
    "3   K2   K1  P3  Q3\n",
    "data2:\n",
    "  key1 key2   R   S\n",
    "0   K0   K0  R0  S0\n",
    "1   K1   K0  R1  S1\n",
    "2   K1   K0  R2  S2\n",
    "3   K2   K0  R3  S3"
   ],
   "metadata": {
    "collapsed": false
   },
   "id": "d38718e1c8e4495b"
  },
  {
   "cell_type": "code",
   "outputs": [
    {
     "name": "stdout",
     "output_type": "stream",
     "text": [
      "  key1_x key2   P   Q key1_y   R   S\n",
      "0     K0   K0  P0  Q0     K0  R0  S0\n",
      "1     K1   K0  P2  Q2     K0  R0  S0\n",
      "2     K0   K0  P0  Q0     K1  R1  S1\n",
      "3     K1   K0  P2  Q2     K1  R1  S1\n",
      "4     K0   K0  P0  Q0     K1  R2  S2\n",
      "5     K1   K0  P2  Q2     K1  R2  S2\n",
      "6     K0   K0  P0  Q0     K2  R3  S3\n",
      "7     K1   K0  P2  Q2     K2  R3  S3\n"
     ]
    }
   ],
   "source": [
    "dfJoined=pd.merge(df1, df2, on='key2', how='right')\n",
    "print(dfJoined)"
   ],
   "metadata": {
    "collapsed": false,
    "ExecuteTime": {
     "end_time": "2024-03-15T03:29:28.220875Z",
     "start_time": "2024-03-15T03:29:28.144335Z"
    }
   },
   "id": "447cc22af9b3baad",
   "execution_count": 16
  },
  {
   "cell_type": "markdown",
   "source": [
    "Write a Pandas program to merge two given datasets using multiple join keys. Test Data: data1: key1 key2 P Q 0 K0 K0 P0 Q0 1 K0 K1 P1 Q1 2 K1 K0 P2 Q2 3 K2 K1 P3 Q3 data2: key1 key2 R S 0 K0 K0 R0 S0 1 K1 K0 R1 S1 2 K1 K0 R2 S2 3 K2 K0 R3 S3"
   ],
   "metadata": {
    "collapsed": false
   },
   "id": "3cef2360e8699834"
  },
  {
   "cell_type": "code",
   "outputs": [
    {
     "ename": "KeyError",
     "evalue": "'key1'",
     "output_type": "error",
     "traceback": [
      "\u001B[0;31m---------------------------------------------------------------------------\u001B[0m",
      "\u001B[0;31mKeyError\u001B[0m                                  Traceback (most recent call last)",
      "\u001B[0;32m/var/folders/6s/m8wl5jqs3sbf7h5fn9wk3k7w0000gn/T/ipykernel_2877/3074406555.py\u001B[0m in \u001B[0;36m?\u001B[0;34m()\u001B[0m\n\u001B[0;32m----> 1\u001B[0;31m \u001B[0mmerged_data\u001B[0m \u001B[0;34m=\u001B[0m \u001B[0mpd\u001B[0m\u001B[0;34m.\u001B[0m\u001B[0mmerge\u001B[0m\u001B[0;34m(\u001B[0m\u001B[0mdf1\u001B[0m\u001B[0;34m,\u001B[0m \u001B[0mdf2\u001B[0m\u001B[0;34m,\u001B[0m \u001B[0mon\u001B[0m\u001B[0;34m=\u001B[0m\u001B[0;34m[\u001B[0m\u001B[0;34m'key1'\u001B[0m\u001B[0;34m,\u001B[0m \u001B[0;34m'key2'\u001B[0m\u001B[0;34m]\u001B[0m\u001B[0;34m)\u001B[0m\u001B[0;34m\u001B[0m\u001B[0;34m\u001B[0m\u001B[0m\n\u001B[0m\u001B[1;32m      2\u001B[0m \u001B[0;34m\u001B[0m\u001B[0m\n\u001B[1;32m      3\u001B[0m \u001B[0mprint\u001B[0m\u001B[0;34m(\u001B[0m\u001B[0mmerged_data\u001B[0m\u001B[0;34m)\u001B[0m\u001B[0;34m\u001B[0m\u001B[0;34m\u001B[0m\u001B[0m\n",
      "\u001B[0;32m~/Documents/CSC/245/dataScienceHandbook/PythonDataScienceHandbook/venv/lib/python3.9/site-packages/pandas/core/reshape/merge.py\u001B[0m in \u001B[0;36m?\u001B[0;34m(left, right, how, on, left_on, right_on, left_index, right_index, sort, suffixes, copy, indicator, validate)\u001B[0m\n\u001B[1;32m    166\u001B[0m             \u001B[0mvalidate\u001B[0m\u001B[0;34m=\u001B[0m\u001B[0mvalidate\u001B[0m\u001B[0;34m,\u001B[0m\u001B[0;34m\u001B[0m\u001B[0;34m\u001B[0m\u001B[0m\n\u001B[1;32m    167\u001B[0m             \u001B[0mcopy\u001B[0m\u001B[0;34m=\u001B[0m\u001B[0mcopy\u001B[0m\u001B[0;34m,\u001B[0m\u001B[0;34m\u001B[0m\u001B[0;34m\u001B[0m\u001B[0m\n\u001B[1;32m    168\u001B[0m         )\n\u001B[1;32m    169\u001B[0m     \u001B[0;32melse\u001B[0m\u001B[0;34m:\u001B[0m\u001B[0;34m\u001B[0m\u001B[0;34m\u001B[0m\u001B[0m\n\u001B[0;32m--> 170\u001B[0;31m         op = _MergeOperation(\n\u001B[0m\u001B[1;32m    171\u001B[0m             \u001B[0mleft_df\u001B[0m\u001B[0;34m,\u001B[0m\u001B[0;34m\u001B[0m\u001B[0;34m\u001B[0m\u001B[0m\n\u001B[1;32m    172\u001B[0m             \u001B[0mright_df\u001B[0m\u001B[0;34m,\u001B[0m\u001B[0;34m\u001B[0m\u001B[0;34m\u001B[0m\u001B[0m\n\u001B[1;32m    173\u001B[0m             \u001B[0mhow\u001B[0m\u001B[0;34m=\u001B[0m\u001B[0mhow\u001B[0m\u001B[0;34m,\u001B[0m\u001B[0;34m\u001B[0m\u001B[0;34m\u001B[0m\u001B[0m\n",
      "\u001B[0;32m~/Documents/CSC/245/dataScienceHandbook/PythonDataScienceHandbook/venv/lib/python3.9/site-packages/pandas/core/reshape/merge.py\u001B[0m in \u001B[0;36m?\u001B[0;34m(self, left, right, how, on, left_on, right_on, left_index, right_index, sort, suffixes, indicator, validate)\u001B[0m\n\u001B[1;32m    790\u001B[0m             \u001B[0mself\u001B[0m\u001B[0;34m.\u001B[0m\u001B[0mright_join_keys\u001B[0m\u001B[0;34m,\u001B[0m\u001B[0;34m\u001B[0m\u001B[0;34m\u001B[0m\u001B[0m\n\u001B[1;32m    791\u001B[0m             \u001B[0mself\u001B[0m\u001B[0;34m.\u001B[0m\u001B[0mjoin_names\u001B[0m\u001B[0;34m,\u001B[0m\u001B[0;34m\u001B[0m\u001B[0;34m\u001B[0m\u001B[0m\n\u001B[1;32m    792\u001B[0m             \u001B[0mleft_drop\u001B[0m\u001B[0;34m,\u001B[0m\u001B[0;34m\u001B[0m\u001B[0;34m\u001B[0m\u001B[0m\n\u001B[1;32m    793\u001B[0m             \u001B[0mright_drop\u001B[0m\u001B[0;34m,\u001B[0m\u001B[0;34m\u001B[0m\u001B[0;34m\u001B[0m\u001B[0m\n\u001B[0;32m--> 794\u001B[0;31m         ) = self._get_merge_keys()\n\u001B[0m\u001B[1;32m    795\u001B[0m \u001B[0;34m\u001B[0m\u001B[0m\n\u001B[1;32m    796\u001B[0m         \u001B[0;32mif\u001B[0m \u001B[0mleft_drop\u001B[0m\u001B[0;34m:\u001B[0m\u001B[0;34m\u001B[0m\u001B[0;34m\u001B[0m\u001B[0m\n\u001B[1;32m    797\u001B[0m             \u001B[0mself\u001B[0m\u001B[0;34m.\u001B[0m\u001B[0mleft\u001B[0m \u001B[0;34m=\u001B[0m \u001B[0mself\u001B[0m\u001B[0;34m.\u001B[0m\u001B[0mleft\u001B[0m\u001B[0;34m.\u001B[0m\u001B[0m_drop_labels_or_levels\u001B[0m\u001B[0;34m(\u001B[0m\u001B[0mleft_drop\u001B[0m\u001B[0;34m)\u001B[0m\u001B[0;34m\u001B[0m\u001B[0;34m\u001B[0m\u001B[0m\n",
      "\u001B[0;32m~/Documents/CSC/245/dataScienceHandbook/PythonDataScienceHandbook/venv/lib/python3.9/site-packages/pandas/core/reshape/merge.py\u001B[0m in \u001B[0;36m?\u001B[0;34m(self)\u001B[0m\n\u001B[1;32m   1293\u001B[0m                         \u001B[0;31m# Then we're either Hashable or a wrong-length arraylike,\u001B[0m\u001B[0;34m\u001B[0m\u001B[0;34m\u001B[0m\u001B[0;34m\u001B[0m\u001B[0m\n\u001B[1;32m   1294\u001B[0m                         \u001B[0;31m#  the latter of which will raise\u001B[0m\u001B[0;34m\u001B[0m\u001B[0;34m\u001B[0m\u001B[0;34m\u001B[0m\u001B[0m\n\u001B[1;32m   1295\u001B[0m                         \u001B[0mrk\u001B[0m \u001B[0;34m=\u001B[0m \u001B[0mcast\u001B[0m\u001B[0;34m(\u001B[0m\u001B[0mHashable\u001B[0m\u001B[0;34m,\u001B[0m \u001B[0mrk\u001B[0m\u001B[0;34m)\u001B[0m\u001B[0;34m\u001B[0m\u001B[0;34m\u001B[0m\u001B[0m\n\u001B[1;32m   1296\u001B[0m                         \u001B[0;32mif\u001B[0m \u001B[0mrk\u001B[0m \u001B[0;32mis\u001B[0m \u001B[0;32mnot\u001B[0m \u001B[0;32mNone\u001B[0m\u001B[0;34m:\u001B[0m\u001B[0;34m\u001B[0m\u001B[0;34m\u001B[0m\u001B[0m\n\u001B[0;32m-> 1297\u001B[0;31m                             \u001B[0mright_keys\u001B[0m\u001B[0;34m.\u001B[0m\u001B[0mappend\u001B[0m\u001B[0;34m(\u001B[0m\u001B[0mright\u001B[0m\u001B[0;34m.\u001B[0m\u001B[0m_get_label_or_level_values\u001B[0m\u001B[0;34m(\u001B[0m\u001B[0mrk\u001B[0m\u001B[0;34m)\u001B[0m\u001B[0;34m)\u001B[0m\u001B[0;34m\u001B[0m\u001B[0;34m\u001B[0m\u001B[0m\n\u001B[0m\u001B[1;32m   1298\u001B[0m                         \u001B[0;32melse\u001B[0m\u001B[0;34m:\u001B[0m\u001B[0;34m\u001B[0m\u001B[0;34m\u001B[0m\u001B[0m\n\u001B[1;32m   1299\u001B[0m                             \u001B[0;31m# work-around for merge_asof(right_index=True)\u001B[0m\u001B[0;34m\u001B[0m\u001B[0;34m\u001B[0m\u001B[0;34m\u001B[0m\u001B[0m\n\u001B[1;32m   1300\u001B[0m                             \u001B[0mright_keys\u001B[0m\u001B[0;34m.\u001B[0m\u001B[0mappend\u001B[0m\u001B[0;34m(\u001B[0m\u001B[0mright\u001B[0m\u001B[0;34m.\u001B[0m\u001B[0mindex\u001B[0m\u001B[0;34m.\u001B[0m\u001B[0m_values\u001B[0m\u001B[0;34m)\u001B[0m\u001B[0;34m\u001B[0m\u001B[0;34m\u001B[0m\u001B[0m\n",
      "\u001B[0;32m~/Documents/CSC/245/dataScienceHandbook/PythonDataScienceHandbook/venv/lib/python3.9/site-packages/pandas/core/generic.py\u001B[0m in \u001B[0;36m?\u001B[0;34m(self, key, axis)\u001B[0m\n\u001B[1;32m   1906\u001B[0m             \u001B[0mvalues\u001B[0m \u001B[0;34m=\u001B[0m \u001B[0mself\u001B[0m\u001B[0;34m.\u001B[0m\u001B[0mxs\u001B[0m\u001B[0;34m(\u001B[0m\u001B[0mkey\u001B[0m\u001B[0;34m,\u001B[0m \u001B[0maxis\u001B[0m\u001B[0;34m=\u001B[0m\u001B[0mother_axes\u001B[0m\u001B[0;34m[\u001B[0m\u001B[0;36m0\u001B[0m\u001B[0;34m]\u001B[0m\u001B[0;34m)\u001B[0m\u001B[0;34m.\u001B[0m\u001B[0m_values\u001B[0m\u001B[0;34m\u001B[0m\u001B[0;34m\u001B[0m\u001B[0m\n\u001B[1;32m   1907\u001B[0m         \u001B[0;32melif\u001B[0m \u001B[0mself\u001B[0m\u001B[0;34m.\u001B[0m\u001B[0m_is_level_reference\u001B[0m\u001B[0;34m(\u001B[0m\u001B[0mkey\u001B[0m\u001B[0;34m,\u001B[0m \u001B[0maxis\u001B[0m\u001B[0;34m=\u001B[0m\u001B[0maxis\u001B[0m\u001B[0;34m)\u001B[0m\u001B[0;34m:\u001B[0m\u001B[0;34m\u001B[0m\u001B[0;34m\u001B[0m\u001B[0m\n\u001B[1;32m   1908\u001B[0m             \u001B[0mvalues\u001B[0m \u001B[0;34m=\u001B[0m \u001B[0mself\u001B[0m\u001B[0;34m.\u001B[0m\u001B[0maxes\u001B[0m\u001B[0;34m[\u001B[0m\u001B[0maxis\u001B[0m\u001B[0;34m]\u001B[0m\u001B[0;34m.\u001B[0m\u001B[0mget_level_values\u001B[0m\u001B[0;34m(\u001B[0m\u001B[0mkey\u001B[0m\u001B[0;34m)\u001B[0m\u001B[0;34m.\u001B[0m\u001B[0m_values\u001B[0m\u001B[0;34m\u001B[0m\u001B[0;34m\u001B[0m\u001B[0m\n\u001B[1;32m   1909\u001B[0m         \u001B[0;32melse\u001B[0m\u001B[0;34m:\u001B[0m\u001B[0;34m\u001B[0m\u001B[0;34m\u001B[0m\u001B[0m\n\u001B[0;32m-> 1910\u001B[0;31m             \u001B[0;32mraise\u001B[0m \u001B[0mKeyError\u001B[0m\u001B[0;34m(\u001B[0m\u001B[0mkey\u001B[0m\u001B[0;34m)\u001B[0m\u001B[0;34m\u001B[0m\u001B[0;34m\u001B[0m\u001B[0m\n\u001B[0m\u001B[1;32m   1911\u001B[0m \u001B[0;34m\u001B[0m\u001B[0m\n\u001B[1;32m   1912\u001B[0m         \u001B[0;31m# Check for duplicates\u001B[0m\u001B[0;34m\u001B[0m\u001B[0;34m\u001B[0m\u001B[0;34m\u001B[0m\u001B[0m\n\u001B[1;32m   1913\u001B[0m         \u001B[0;32mif\u001B[0m \u001B[0mvalues\u001B[0m\u001B[0;34m.\u001B[0m\u001B[0mndim\u001B[0m \u001B[0;34m>\u001B[0m \u001B[0;36m1\u001B[0m\u001B[0;34m:\u001B[0m\u001B[0;34m\u001B[0m\u001B[0;34m\u001B[0m\u001B[0m\n",
      "\u001B[0;31mKeyError\u001B[0m: 'key1'"
     ]
    }
   ],
   "source": [
    "merged_data = pd.merge(df1, df2, on=['key1', 'key2'])\n",
    "\n",
    "print(merged_data)"
   ],
   "metadata": {
    "collapsed": false,
    "ExecuteTime": {
     "end_time": "2024-03-15T03:29:15.985063Z",
     "start_time": "2024-03-15T03:29:15.926347Z"
    }
   },
   "id": "9b8a84f910dd4bb1",
   "execution_count": 14
  },
  {
   "cell_type": "markdown",
   "source": [],
   "metadata": {
    "collapsed": false
   },
   "id": "cb8115aa743fcf87"
  },
  {
   "cell_type": "markdown",
   "source": [
    "11. Write a Pandas program to create a new DataFrame based on existing series, using specified argument and override the existing columns names."
   ],
   "metadata": {
    "collapsed": false
   },
   "id": "ee275a162218b3fd"
  },
  {
   "cell_type": "code",
   "outputs": [
    {
     "name": "stdout",
     "output_type": "stream",
     "text": [
      "   Numbers Letters\n",
      "0        1       A\n",
      "1        2       B\n",
      "2        3       C\n",
      "3        4       D\n",
      "4        5       E\n"
     ]
    }
   ],
   "source": [
    "series1 = pd.Series([1, 2, 3, 4, 5])\n",
    "series2 = pd.Series(['A', 'B', 'C', 'D', 'E'])\n",
    "\n",
    "\n",
    "new_column_names = ['Numbers', 'Letters']\n",
    "\n",
    "\n",
    "new_df = pd.DataFrame({new_column_names[0]: series1, new_column_names[1]: series2})\n",
    "\n",
    "print(new_df)"
   ],
   "metadata": {
    "collapsed": false,
    "ExecuteTime": {
     "end_time": "2024-03-15T03:13:30.327525Z",
     "start_time": "2024-03-15T03:13:30.223438Z"
    }
   },
   "id": "329264fe95c1dc9e",
   "execution_count": 11
  },
  {
   "cell_type": "markdown",
   "source": [
    "12. Write a Pandas program to create a combination from two dataframes where a column id combination appears more than once in both dataframes.\n",
    "Test Data:\n",
    "data1:\n",
    "  key1 key2   P   Q\n",
    "0   K0   K0  P0  Q0\n",
    "1   K0   K1  P1  Q1\n",
    "2   K1   K0  P2  Q2\n",
    "3   K2   K1  P3  Q3\n",
    "data2:\n",
    "  key1 key2   R   S\n",
    "0   K0   K0  R0  S0\n",
    "1   K1   K0  R1  S1\n",
    "2   K1   K0  R2  S2\n",
    "3   K2   K0  R3  S3"
   ],
   "metadata": {
    "collapsed": false
   },
   "id": "32bf9b628a439b86"
  },
  {
   "cell_type": "code",
   "outputs": [],
   "source": [
    "merged_data = pd.merge(df1, df2, on=['key1', 'key2'])\n",
    "\n",
    "print(merged_data)"
   ],
   "metadata": {
    "collapsed": false
   },
   "id": "f63e02b5462475ba"
  },
  {
   "cell_type": "markdown",
   "source": [
    "13. Write a Pandas program to combine the columns of two potentially differently-indexed DataFrames into a single result DataFrame.\n",
    "Test Data:\n",
    "data1:\n",
    "     A   B\n",
    "K0  A0  B0\n",
    "K1  A1  B1\n",
    "K2  A2  B2\n",
    "data2:\n",
    "     C   D\n",
    "K0  C0  D0\n",
    "K2  C2  D2\n",
    "K3  C3  D3\n"
   ],
   "metadata": {
    "collapsed": false
   },
   "id": "602cb9149ba69620"
  },
  {
   "cell_type": "code",
   "outputs": [
    {
     "name": "stdout",
     "output_type": "stream",
     "text": [
      "      A    B    C    D\n",
      "K0   A0   B0   C0   D0\n",
      "K1   A1   B1  NaN  NaN\n",
      "K2   A2   B2   C2   D2\n",
      "K3  NaN  NaN   C3   D3\n"
     ]
    }
   ],
   "source": [
    "d1 = {\n",
    "    'A': ['A0', 'A1', 'A2'],\n",
    "    'B': ['B0', 'B1', 'B2']\n",
    "}\n",
    "d2 = {\n",
    "    'C': ['C0', 'C2', 'C3'],\n",
    "    'D': ['D0', 'D2', 'D3']\n",
    "}\n",
    "\n",
    "\n",
    "df1 = pd.DataFrame(d1, index=['K0', 'K1', 'K2'])\n",
    "df2 = pd.DataFrame(d2, index=['K0', 'K2', 'K3'])\n",
    "\n",
    "\n",
    "result = pd.concat([df1, df2], axis=1)\n",
    "\n",
    "\n",
    "print(result)"
   ],
   "metadata": {
    "collapsed": false,
    "ExecuteTime": {
     "end_time": "2024-03-15T03:23:34.702820Z",
     "start_time": "2024-03-15T03:23:34.676201Z"
    }
   },
   "id": "9c3c06e05a40d4d4",
   "execution_count": 12
  },
  {
   "cell_type": "markdown",
   "source": [
    "14. Write a Pandas program to merge two given dataframes with different columns.\n",
    "Test Data:\n",
    "data1:\n",
    "  key1 key2   P   Q\n",
    "0   K0   K0  P0  Q0\n",
    "1   K0   K1  P1  Q1\n",
    "2   K1   K0  P2  Q2\n",
    "3   K2   K1  P3  Q3\n",
    "data2:\n",
    "  key1 key2   R   S\n",
    "0   K0   K0  R0  S0\n",
    "1   K1   K0  R1  S1\n",
    "2   K1   K0  R2  S2\n",
    "3   K2   K0  R3  S3"
   ],
   "metadata": {
    "collapsed": false
   },
   "id": "ba7f9b46919513cc"
  },
  {
   "cell_type": "code",
   "outputs": [
    {
     "name": "stdout",
     "output_type": "stream",
     "text": [
      "  key1 key2   P   Q   R   S\n",
      "0   K0   K0  P0  Q0  R0  S0\n",
      "1   K1   K0  P2  Q2  R1  S1\n",
      "2   K1   K0  P2  Q2  R2  S2\n"
     ]
    }
   ],
   "source": [
    "merged_data = pd.merge(df1, df2, on=['key1', 'key2'])\n",
    "\n",
    "print(merged_data)"
   ],
   "metadata": {
    "collapsed": false,
    "ExecuteTime": {
     "end_time": "2024-03-15T03:29:32.093552Z",
     "start_time": "2024-03-15T03:29:32.064989Z"
    }
   },
   "id": "dc57180ab5fc2ee0",
   "execution_count": 17
  },
  {
   "cell_type": "markdown",
   "source": [
    "15. Write a Pandas program to Combine two DataFrame objects by filling null values in one DataFrame with non-null values from other DataFrame.\n",
    "Test Data:\n",
    "Original DataFrames:\n",
    "     A  B\n",
    "0  NaN  3\n",
    "1  0.0  4\n",
    "2  NaN  5\n",
    "  A    B\n",
    "0  1  3.0\n",
    "1  1  NaN\n",
    "2  3  3.0"
   ],
   "metadata": {
    "collapsed": false
   },
   "id": "4e2aa94612d20df3"
  },
  {
   "cell_type": "code",
   "outputs": [
    {
     "name": "stdout",
     "output_type": "stream",
     "text": [
      "     A    B\n",
      "0  1.0  3.0\n",
      "1  0.0  4.0\n",
      "2  3.0  5.0\n"
     ]
    }
   ],
   "source": [
    "import numpy as np\n",
    "\n",
    "\n",
    "d1 = {\n",
    "    'A': [np.nan, 0.0, np.nan],\n",
    "    'B': [3, 4, 5]\n",
    "}\n",
    "d2 = {\n",
    "    'A': [1, 1, 3],\n",
    "    'B': [3.0, np.nan, 3.0]\n",
    "}\n",
    "\n",
    "\n",
    "df1 = pd.DataFrame(d1)\n",
    "df2 = pd.DataFrame(d2)\n",
    "\n",
    "\n",
    "combined_df = df1.combine_first(df2)\n",
    "\n",
    "\n",
    "print(combined_df)"
   ],
   "metadata": {
    "collapsed": false,
    "ExecuteTime": {
     "end_time": "2024-03-15T03:33:18.016960Z",
     "start_time": "2024-03-15T03:33:17.989960Z"
    }
   },
   "id": "4d767c61e7499170",
   "execution_count": 18
  },
  {
   "cell_type": "code",
   "outputs": [],
   "source": [],
   "metadata": {
    "collapsed": false
   },
   "id": "598e21792771d503"
  }
 ],
 "metadata": {
  "kernelspec": {
   "display_name": "Python 3",
   "language": "python",
   "name": "python3"
  },
  "language_info": {
   "codemirror_mode": {
    "name": "ipython",
    "version": 2
   },
   "file_extension": ".py",
   "mimetype": "text/x-python",
   "name": "python",
   "nbconvert_exporter": "python",
   "pygments_lexer": "ipython2",
   "version": "2.7.6"
  }
 },
 "nbformat": 4,
 "nbformat_minor": 5
}
