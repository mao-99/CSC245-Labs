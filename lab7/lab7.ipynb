{
 "cells": [
  {
   "cell_type": "markdown",
   "source": [],
   "metadata": {
    "collapsed": false
   },
   "id": "ee0e54d1bb6994"
  },
  {
   "cell_type": "code",
   "execution_count": 25,
   "id": "initial_id",
   "metadata": {
    "collapsed": true,
    "ExecuteTime": {
     "end_time": "2024-04-04T23:24:42.935884Z",
     "start_time": "2024-04-04T23:24:39.062809Z"
    }
   },
   "outputs": [
    {
     "name": "stdout",
     "output_type": "stream",
     "text": [
      ".. _breast_cancer_dataset:\n",
      "\n",
      "Breast cancer wisconsin (diagnostic) dataset\n",
      "--------------------------------------------\n",
      "\n",
      "**Data Set Characteristics:**\n",
      "\n",
      ":Number of Instances: 569\n",
      "\n",
      ":Number of Attributes: 30 numeric, predictive attributes and the class\n",
      "\n",
      ":Attribute Information:\n",
      "    - radius (mean of distances from center to points on the perimeter)\n",
      "    - texture (standard deviation of gray-scale values)\n",
      "    - perimeter\n",
      "    - area\n",
      "    - smoothness (local variation in radius lengths)\n",
      "    - compactness (perimeter^2 / area - 1.0)\n",
      "    - concavity (severity of concave portions of the contour)\n",
      "    - concave points (number of concave portions of the contour)\n",
      "    - symmetry\n",
      "    - fractal dimension (\"coastline approximation\" - 1)\n",
      "\n",
      "    The mean, standard error, and \"worst\" or largest (mean of the three\n",
      "    worst/largest values) of these features were computed for each image,\n",
      "    resulting in 30 features.  For instance, field 0 is Mean Radius, field\n",
      "    10 is Radius SE, field 20 is Worst Radius.\n",
      "\n",
      "    - class:\n",
      "            - WDBC-Malignant\n",
      "            - WDBC-Benign\n",
      "\n",
      ":Summary Statistics:\n",
      "\n",
      "===================================== ====== ======\n",
      "                                        Min    Max\n",
      "===================================== ====== ======\n",
      "radius (mean):                        6.981  28.11\n",
      "texture (mean):                       9.71   39.28\n",
      "perimeter (mean):                     43.79  188.5\n",
      "area (mean):                          143.5  2501.0\n",
      "smoothness (mean):                    0.053  0.163\n",
      "compactness (mean):                   0.019  0.345\n",
      "concavity (mean):                     0.0    0.427\n",
      "concave points (mean):                0.0    0.201\n",
      "symmetry (mean):                      0.106  0.304\n",
      "fractal dimension (mean):             0.05   0.097\n",
      "radius (standard error):              0.112  2.873\n",
      "texture (standard error):             0.36   4.885\n",
      "perimeter (standard error):           0.757  21.98\n",
      "area (standard error):                6.802  542.2\n",
      "smoothness (standard error):          0.002  0.031\n",
      "compactness (standard error):         0.002  0.135\n",
      "concavity (standard error):           0.0    0.396\n",
      "concave points (standard error):      0.0    0.053\n",
      "symmetry (standard error):            0.008  0.079\n",
      "fractal dimension (standard error):   0.001  0.03\n",
      "radius (worst):                       7.93   36.04\n",
      "texture (worst):                      12.02  49.54\n",
      "perimeter (worst):                    50.41  251.2\n",
      "area (worst):                         185.2  4254.0\n",
      "smoothness (worst):                   0.071  0.223\n",
      "compactness (worst):                  0.027  1.058\n",
      "concavity (worst):                    0.0    1.252\n",
      "concave points (worst):               0.0    0.291\n",
      "symmetry (worst):                     0.156  0.664\n",
      "fractal dimension (worst):            0.055  0.208\n",
      "===================================== ====== ======\n",
      "\n",
      ":Missing Attribute Values: None\n",
      "\n",
      ":Class Distribution: 212 - Malignant, 357 - Benign\n",
      "\n",
      ":Creator:  Dr. William H. Wolberg, W. Nick Street, Olvi L. Mangasarian\n",
      "\n",
      ":Donor: Nick Street\n",
      "\n",
      ":Date: November, 1995\n",
      "\n",
      "This is a copy of UCI ML Breast Cancer Wisconsin (Diagnostic) datasets.\n",
      "https://goo.gl/U2Uwz2\n",
      "\n",
      "Features are computed from a digitized image of a fine needle\n",
      "aspirate (FNA) of a breast mass.  They describe\n",
      "characteristics of the cell nuclei present in the image.\n",
      "\n",
      "Separating plane described above was obtained using\n",
      "Multisurface Method-Tree (MSM-T) [K. P. Bennett, \"Decision Tree\n",
      "Construction Via Linear Programming.\" Proceedings of the 4th\n",
      "Midwest Artificial Intelligence and Cognitive Science Society,\n",
      "pp. 97-101, 1992], a classification method which uses linear\n",
      "programming to construct a decision tree.  Relevant features\n",
      "were selected using an exhaustive search in the space of 1-4\n",
      "features and 1-3 separating planes.\n",
      "\n",
      "The actual linear program used to obtain the separating plane\n",
      "in the 3-dimensional space is that described in:\n",
      "[K. P. Bennett and O. L. Mangasarian: \"Robust Linear\n",
      "Programming Discrimination of Two Linearly Inseparable Sets\",\n",
      "Optimization Methods and Software 1, 1992, 23-34].\n",
      "\n",
      "This database is also available through the UW CS ftp server:\n",
      "\n",
      "ftp ftp.cs.wisc.edu\n",
      "cd math-prog/cpo-dataset/machine-learn/WDBC/\n",
      "\n",
      "|details-start|\n",
      "**References**\n",
      "|details-split|\n",
      "\n",
      "- W.N. Street, W.H. Wolberg and O.L. Mangasarian. Nuclear feature extraction\n",
      "  for breast tumor diagnosis. IS&T/SPIE 1993 International Symposium on\n",
      "  Electronic Imaging: Science and Technology, volume 1905, pages 861-870,\n",
      "  San Jose, CA, 1993.\n",
      "- O.L. Mangasarian, W.N. Street and W.H. Wolberg. Breast cancer diagnosis and\n",
      "  prognosis via linear programming. Operations Research, 43(4), pages 570-577,\n",
      "  July-August 1995.\n",
      "- W.H. Wolberg, W.N. Street, and O.L. Mangasarian. Machine learning techniques\n",
      "  to diagnose breast cancer from fine-needle aspirates. Cancer Letters 77 (1994)\n",
      "  163-171.\n",
      "\n",
      "|details-end|\n"
     ]
    }
   ],
   "source": [
    "import numpy\n",
    "import numpy as np\n",
    "import pandas as pd\n",
    "\n",
    "from sklearn.datasets import load_breast_cancer\n",
    "from sklearn.neighbors import KNeighborsClassifier\n",
    "\n",
    "cancer = load_breast_cancer()\n",
    "print(cancer.DESCR) # Print the data set description"
   ]
  },
  {
   "cell_type": "markdown",
   "source": [
    "Question 0 (Example) How many features does the breast cancer dataset have? This function should return an integer."
   ],
   "metadata": {
    "collapsed": false
   },
   "id": "e6057d1b94a21a33"
  },
  {
   "cell_type": "code",
   "outputs": [
    {
     "name": "stdout",
     "output_type": "stream",
     "text": [
      "30\n"
     ]
    }
   ],
   "source": [
    "print(cancer.feature_names.size)"
   ],
   "metadata": {
    "collapsed": false,
    "ExecuteTime": {
     "end_time": "2024-04-04T23:24:42.968182Z",
     "start_time": "2024-04-04T23:24:42.934523Z"
    }
   },
   "id": "d0b0de2f89981416",
   "execution_count": 26
  },
  {
   "cell_type": "markdown",
   "source": [
    "Question 1 Scikit-learn works with lists, numpy arrays, scipy-sparse matrices, and pandas DataFrames, so converting the dataset to a DataFrame is not necessary for training this model. Using a DataFrame does however help make many things easier such as munging data, so let's practice creating a classifier with a pandas DataFrame."
   ],
   "metadata": {
    "collapsed": false
   },
   "id": "cef89febc3ea6d6f"
  },
  {
   "cell_type": "code",
   "outputs": [
    {
     "name": "stdout",
     "output_type": "stream",
     "text": [
      "     mean radius  mean texture  mean perimeter  mean area  mean smoothness  \\\n",
      "0          17.99         10.38          122.80     1001.0          0.11840   \n",
      "1          20.57         17.77          132.90     1326.0          0.08474   \n",
      "2          19.69         21.25          130.00     1203.0          0.10960   \n",
      "3          11.42         20.38           77.58      386.1          0.14250   \n",
      "4          20.29         14.34          135.10     1297.0          0.10030   \n",
      "..           ...           ...             ...        ...              ...   \n",
      "564        21.56         22.39          142.00     1479.0          0.11100   \n",
      "565        20.13         28.25          131.20     1261.0          0.09780   \n",
      "566        16.60         28.08          108.30      858.1          0.08455   \n",
      "567        20.60         29.33          140.10     1265.0          0.11780   \n",
      "568         7.76         24.54           47.92      181.0          0.05263   \n",
      "\n",
      "     mean compactness  mean concavity  mean concave points  mean symmetry  \\\n",
      "0             0.27760         0.30010              0.14710         0.2419   \n",
      "1             0.07864         0.08690              0.07017         0.1812   \n",
      "2             0.15990         0.19740              0.12790         0.2069   \n",
      "3             0.28390         0.24140              0.10520         0.2597   \n",
      "4             0.13280         0.19800              0.10430         0.1809   \n",
      "..                ...             ...                  ...            ...   \n",
      "564           0.11590         0.24390              0.13890         0.1726   \n",
      "565           0.10340         0.14400              0.09791         0.1752   \n",
      "566           0.10230         0.09251              0.05302         0.1590   \n",
      "567           0.27700         0.35140              0.15200         0.2397   \n",
      "568           0.04362         0.00000              0.00000         0.1587   \n",
      "\n",
      "     mean fractal dimension  ...  worst texture  worst perimeter  worst area  \\\n",
      "0                   0.07871  ...          17.33           184.60      2019.0   \n",
      "1                   0.05667  ...          23.41           158.80      1956.0   \n",
      "2                   0.05999  ...          25.53           152.50      1709.0   \n",
      "3                   0.09744  ...          26.50            98.87       567.7   \n",
      "4                   0.05883  ...          16.67           152.20      1575.0   \n",
      "..                      ...  ...            ...              ...         ...   \n",
      "564                 0.05623  ...          26.40           166.10      2027.0   \n",
      "565                 0.05533  ...          38.25           155.00      1731.0   \n",
      "566                 0.05648  ...          34.12           126.70      1124.0   \n",
      "567                 0.07016  ...          39.42           184.60      1821.0   \n",
      "568                 0.05884  ...          30.37            59.16       268.6   \n",
      "\n",
      "     worst smoothness  worst compactness  worst concavity  \\\n",
      "0             0.16220            0.66560           0.7119   \n",
      "1             0.12380            0.18660           0.2416   \n",
      "2             0.14440            0.42450           0.4504   \n",
      "3             0.20980            0.86630           0.6869   \n",
      "4             0.13740            0.20500           0.4000   \n",
      "..                ...                ...              ...   \n",
      "564           0.14100            0.21130           0.4107   \n",
      "565           0.11660            0.19220           0.3215   \n",
      "566           0.11390            0.30940           0.3403   \n",
      "567           0.16500            0.86810           0.9387   \n",
      "568           0.08996            0.06444           0.0000   \n",
      "\n",
      "     worst concave points  worst symmetry  worst fractal dimension  target  \n",
      "0                  0.2654          0.4601                  0.11890       0  \n",
      "1                  0.1860          0.2750                  0.08902       0  \n",
      "2                  0.2430          0.3613                  0.08758       0  \n",
      "3                  0.2575          0.6638                  0.17300       0  \n",
      "4                  0.1625          0.2364                  0.07678       0  \n",
      "..                    ...             ...                      ...     ...  \n",
      "564                0.2216          0.2060                  0.07115       0  \n",
      "565                0.1628          0.2572                  0.06637       0  \n",
      "566                0.1418          0.2218                  0.07820       0  \n",
      "567                0.2650          0.4087                  0.12400       0  \n",
      "568                0.0000          0.2871                  0.07039       1  \n",
      "\n",
      "[569 rows x 31 columns]\n"
     ]
    }
   ],
   "source": [
    "cancerDataFrame = pd.DataFrame(cancer.data, columns=cancer.feature_names)\n",
    "cancerDataFrame['target']=cancer.target\n",
    "print(cancerDataFrame)"
   ],
   "metadata": {
    "collapsed": false,
    "ExecuteTime": {
     "end_time": "2024-04-04T23:24:43.382768Z",
     "start_time": "2024-04-04T23:24:42.959779Z"
    }
   },
   "id": "dfea92ff834a18d2",
   "execution_count": 27
  },
  {
   "cell_type": "markdown",
   "source": [
    "Question 2\n",
    "What is the class distribution? (i.e. how many instances of malignant (encoded 0) and how many benign (encoded 1)?) This function should return a Series named target of length 2 with integer values and index = ['malignant', 'benign']"
   ],
   "metadata": {
    "collapsed": false
   },
   "id": "4579bf120ddbf4c8"
  },
  {
   "cell_type": "code",
   "outputs": [
    {
     "name": "stdout",
     "output_type": "stream",
     "text": [
      "benign       357\n",
      "malignant    212\n",
      "Name: count, dtype: int64\n"
     ]
    }
   ],
   "source": [
    "\n",
    "dist=pd.Series(cancerDataFrame['target']).value_counts()\n",
    "dist.index = reversed(cancer.target_names)\n",
    "print(dist)\n",
    "\n"
   ],
   "metadata": {
    "collapsed": false,
    "ExecuteTime": {
     "end_time": "2024-04-04T23:24:43.392156Z",
     "start_time": "2024-04-04T23:24:43.220780Z"
    }
   },
   "id": "3fd9cbe6425043a8",
   "execution_count": 28
  },
  {
   "cell_type": "markdown",
   "source": [
    "Question 3\n",
    "Split the DataFrame into X (the data) and y (the labels). This function should return a tuple of length 2: (X, y), where X, a pandas DataFrame, has shape (569, 30) y, a pandas Series, has shape (569,).\n"
   ],
   "metadata": {
    "collapsed": false
   },
   "id": "20616479e79de8ce"
  },
  {
   "cell_type": "code",
   "outputs": [
    {
     "name": "stdout",
     "output_type": "stream",
     "text": [
      "(     mean radius  mean texture  mean perimeter  mean area  mean smoothness  \\\n",
      "0          17.99         10.38          122.80     1001.0          0.11840   \n",
      "1          20.57         17.77          132.90     1326.0          0.08474   \n",
      "2          19.69         21.25          130.00     1203.0          0.10960   \n",
      "3          11.42         20.38           77.58      386.1          0.14250   \n",
      "4          20.29         14.34          135.10     1297.0          0.10030   \n",
      "..           ...           ...             ...        ...              ...   \n",
      "564        21.56         22.39          142.00     1479.0          0.11100   \n",
      "565        20.13         28.25          131.20     1261.0          0.09780   \n",
      "566        16.60         28.08          108.30      858.1          0.08455   \n",
      "567        20.60         29.33          140.10     1265.0          0.11780   \n",
      "568         7.76         24.54           47.92      181.0          0.05263   \n",
      "\n",
      "     mean compactness  mean concavity  mean concave points  mean symmetry  \\\n",
      "0             0.27760         0.30010              0.14710         0.2419   \n",
      "1             0.07864         0.08690              0.07017         0.1812   \n",
      "2             0.15990         0.19740              0.12790         0.2069   \n",
      "3             0.28390         0.24140              0.10520         0.2597   \n",
      "4             0.13280         0.19800              0.10430         0.1809   \n",
      "..                ...             ...                  ...            ...   \n",
      "564           0.11590         0.24390              0.13890         0.1726   \n",
      "565           0.10340         0.14400              0.09791         0.1752   \n",
      "566           0.10230         0.09251              0.05302         0.1590   \n",
      "567           0.27700         0.35140              0.15200         0.2397   \n",
      "568           0.04362         0.00000              0.00000         0.1587   \n",
      "\n",
      "     mean fractal dimension  ...  worst radius  worst texture  \\\n",
      "0                   0.07871  ...        25.380          17.33   \n",
      "1                   0.05667  ...        24.990          23.41   \n",
      "2                   0.05999  ...        23.570          25.53   \n",
      "3                   0.09744  ...        14.910          26.50   \n",
      "4                   0.05883  ...        22.540          16.67   \n",
      "..                      ...  ...           ...            ...   \n",
      "564                 0.05623  ...        25.450          26.40   \n",
      "565                 0.05533  ...        23.690          38.25   \n",
      "566                 0.05648  ...        18.980          34.12   \n",
      "567                 0.07016  ...        25.740          39.42   \n",
      "568                 0.05884  ...         9.456          30.37   \n",
      "\n",
      "     worst perimeter  worst area  worst smoothness  worst compactness  \\\n",
      "0             184.60      2019.0           0.16220            0.66560   \n",
      "1             158.80      1956.0           0.12380            0.18660   \n",
      "2             152.50      1709.0           0.14440            0.42450   \n",
      "3              98.87       567.7           0.20980            0.86630   \n",
      "4             152.20      1575.0           0.13740            0.20500   \n",
      "..               ...         ...               ...                ...   \n",
      "564           166.10      2027.0           0.14100            0.21130   \n",
      "565           155.00      1731.0           0.11660            0.19220   \n",
      "566           126.70      1124.0           0.11390            0.30940   \n",
      "567           184.60      1821.0           0.16500            0.86810   \n",
      "568            59.16       268.6           0.08996            0.06444   \n",
      "\n",
      "     worst concavity  worst concave points  worst symmetry  \\\n",
      "0             0.7119                0.2654          0.4601   \n",
      "1             0.2416                0.1860          0.2750   \n",
      "2             0.4504                0.2430          0.3613   \n",
      "3             0.6869                0.2575          0.6638   \n",
      "4             0.4000                0.1625          0.2364   \n",
      "..               ...                   ...             ...   \n",
      "564           0.4107                0.2216          0.2060   \n",
      "565           0.3215                0.1628          0.2572   \n",
      "566           0.3403                0.1418          0.2218   \n",
      "567           0.9387                0.2650          0.4087   \n",
      "568           0.0000                0.0000          0.2871   \n",
      "\n",
      "     worst fractal dimension  \n",
      "0                    0.11890  \n",
      "1                    0.08902  \n",
      "2                    0.08758  \n",
      "3                    0.17300  \n",
      "4                    0.07678  \n",
      "..                       ...  \n",
      "564                  0.07115  \n",
      "565                  0.06637  \n",
      "566                  0.07820  \n",
      "567                  0.12400  \n",
      "568                  0.07039  \n",
      "\n",
      "[569 rows x 30 columns], 0      0\n",
      "1      0\n",
      "2      0\n",
      "3      0\n",
      "4      0\n",
      "      ..\n",
      "564    0\n",
      "565    0\n",
      "566    0\n",
      "567    0\n",
      "568    1\n",
      "Name: target, Length: 569, dtype: int64)\n"
     ]
    }
   ],
   "source": [
    "def splitDataFrame(cancerDataFrame):\n",
    "    X=pd.DataFrame(cancerDataFrame.iloc[:,:-1])\n",
    "    #print(X)\n",
    "    Y=pd.Series(cancerDataFrame['target'])\n",
    "    #print(Y)\n",
    "    return (X, Y)\n",
    "    \n",
    "\n",
    "XYData=splitDataFrame(cancerDataFrame)\n",
    "print(XYData)"
   ],
   "metadata": {
    "collapsed": false,
    "ExecuteTime": {
     "end_time": "2024-04-04T23:24:44.046044Z",
     "start_time": "2024-04-04T23:24:43.312538Z"
    }
   },
   "id": "3816aec0f2221de8",
   "execution_count": 29
  },
  {
   "cell_type": "markdown",
   "source": [
    "Question 4\n",
    "\n",
    "Using train_test_split, split X and y into training and test sets (X_train, X_test, y_train, and y_test)."
   ],
   "metadata": {
    "collapsed": false
   },
   "id": "3749f1e762d1b3b9"
  },
  {
   "cell_type": "code",
   "outputs": [
    {
     "name": "stdout",
     "output_type": "stream",
     "text": [
      "     mean radius  mean texture  mean perimeter  mean area  mean smoothness  \\\n",
      "338       10.050         17.53           64.41      310.8          0.10070   \n",
      "427       10.800         21.98           68.79      359.9          0.08801   \n",
      "406       16.140         14.86          104.30      800.0          0.09495   \n",
      "96        12.180         17.84           77.79      451.1          0.10450   \n",
      "490       12.250         22.44           78.18      466.5          0.08192   \n",
      "..           ...           ...             ...        ...              ...   \n",
      "277       18.810         19.98          120.90     1102.0          0.08923   \n",
      "9         12.460         24.04           83.97      475.9          0.11860   \n",
      "359        9.436         18.32           59.82      278.6          0.10090   \n",
      "192        9.720         18.22           60.73      288.1          0.06950   \n",
      "559       11.510         23.93           74.52      403.5          0.09261   \n",
      "\n",
      "     mean compactness  mean concavity  mean concave points  mean symmetry  \\\n",
      "338           0.07326         0.02511              0.01775         0.1890   \n",
      "427           0.05743         0.03614              0.01404         0.2016   \n",
      "406           0.08501         0.05500              0.04528         0.1735   \n",
      "96            0.07057         0.02490              0.02941         0.1900   \n",
      "490           0.05200         0.01714              0.01261         0.1544   \n",
      "..                ...             ...                  ...            ...   \n",
      "277           0.05884         0.08020              0.05843         0.1550   \n",
      "9             0.23960         0.22730              0.08543         0.2030   \n",
      "359           0.05956         0.02710              0.01406         0.1506   \n",
      "192           0.02344         0.00000              0.00000         0.1653   \n",
      "559           0.10210         0.11120              0.04105         0.1388   \n",
      "\n",
      "     mean fractal dimension  ...  worst radius  worst texture  \\\n",
      "338                 0.06331  ...        11.160          26.84   \n",
      "427                 0.05977  ...        12.760          32.04   \n",
      "406                 0.05875  ...        17.710          19.58   \n",
      "96                  0.06635  ...        12.830          20.92   \n",
      "490                 0.05976  ...        14.170          31.99   \n",
      "..                      ...  ...           ...            ...   \n",
      "277                 0.04996  ...        19.960          24.30   \n",
      "9                   0.08243  ...        15.090          40.68   \n",
      "359                 0.06959  ...        12.020          25.02   \n",
      "192                 0.06447  ...         9.968          20.83   \n",
      "559                 0.06570  ...        12.480          37.16   \n",
      "\n",
      "     worst perimeter  worst area  worst smoothness  worst compactness  \\\n",
      "338            71.98       384.0           0.14020            0.14020   \n",
      "427            83.69       489.5           0.13030            0.16960   \n",
      "406           115.90       947.9           0.12060            0.17220   \n",
      "96             82.14       495.2           0.11400            0.09358   \n",
      "490            92.74       622.9           0.12560            0.18040   \n",
      "..               ...         ...               ...                ...   \n",
      "277           129.00      1236.0           0.12430            0.11600   \n",
      "9              97.65       711.4           0.18530            1.05800   \n",
      "359            75.79       439.6           0.13330            0.10490   \n",
      "192            62.25       303.8           0.07117            0.02729   \n",
      "559            82.28       474.2           0.12980            0.25170   \n",
      "\n",
      "     worst concavity  worst concave points  worst symmetry  \\\n",
      "338           0.1055               0.06499          0.2894   \n",
      "427           0.1927               0.07485          0.2965   \n",
      "406           0.2310               0.11290          0.2778   \n",
      "96            0.0498               0.05882          0.2227   \n",
      "490           0.1230               0.06335          0.3100   \n",
      "..               ...                   ...             ...   \n",
      "277           0.2210               0.12940          0.2567   \n",
      "9             1.1050               0.22100          0.4366   \n",
      "359           0.1144               0.05052          0.2454   \n",
      "192           0.0000               0.00000          0.1909   \n",
      "559           0.3630               0.09653          0.2112   \n",
      "\n",
      "     worst fractal dimension  \n",
      "338                  0.07664  \n",
      "427                  0.07662  \n",
      "406                  0.07012  \n",
      "96                   0.07376  \n",
      "490                  0.08203  \n",
      "..                       ...  \n",
      "277                  0.05737  \n",
      "9                    0.20750  \n",
      "359                  0.08136  \n",
      "192                  0.06559  \n",
      "559                  0.08732  \n",
      "\n",
      "[455 rows x 30 columns]\n",
      "338    1\n",
      "427    1\n",
      "406    1\n",
      "96     1\n",
      "490    1\n",
      "      ..\n",
      "277    0\n",
      "9      0\n",
      "359    1\n",
      "192    1\n",
      "559    1\n",
      "Name: target, Length: 455, dtype: int64\n",
      "     mean radius  mean texture  mean perimeter  mean area  mean smoothness  \\\n",
      "512        13.40         20.52           88.64      556.7          0.11060   \n",
      "457        13.21         25.25           84.10      537.9          0.08791   \n",
      "439        14.02         15.66           89.59      606.5          0.07966   \n",
      "298        14.26         18.17           91.22      633.1          0.06576   \n",
      "37         13.03         18.42           82.61      523.8          0.08983   \n",
      "..           ...           ...             ...        ...              ...   \n",
      "213        17.42         25.56          114.50      948.0          0.10060   \n",
      "519        12.75         16.70           82.51      493.8          0.11250   \n",
      "432        20.18         19.54          133.80     1250.0          0.11330   \n",
      "516        18.31         20.58          120.80     1052.0          0.10680   \n",
      "500        15.04         16.74           98.73      689.4          0.09883   \n",
      "\n",
      "     mean compactness  mean concavity  mean concave points  mean symmetry  \\\n",
      "512           0.14690         0.14450              0.08172         0.2116   \n",
      "457           0.05205         0.02772              0.02068         0.1619   \n",
      "439           0.05581         0.02087              0.02652         0.1589   \n",
      "298           0.05220         0.02475              0.01374         0.1635   \n",
      "37            0.03766         0.02562              0.02923         0.1467   \n",
      "..                ...             ...                  ...            ...   \n",
      "213           0.11460         0.16820              0.06597         0.1308   \n",
      "519           0.11170         0.03880              0.02995         0.2120   \n",
      "432           0.14890         0.21330              0.12590         0.1724   \n",
      "516           0.12480         0.15690              0.09451         0.1860   \n",
      "500           0.13640         0.07721              0.06142         0.1668   \n",
      "\n",
      "     mean fractal dimension  ...  worst radius  worst texture  \\\n",
      "512                 0.07325  ...         16.41          29.66   \n",
      "457                 0.05584  ...         14.35          34.23   \n",
      "439                 0.05586  ...         14.91          19.31   \n",
      "298                 0.05586  ...         16.22          25.26   \n",
      "37                  0.05863  ...         13.30          22.81   \n",
      "..                      ...  ...           ...            ...   \n",
      "213                 0.05866  ...         18.07          28.07   \n",
      "519                 0.06623  ...         14.45          21.74   \n",
      "432                 0.06053  ...         22.03          25.07   \n",
      "516                 0.05941  ...         21.86          26.20   \n",
      "500                 0.06869  ...         16.76          20.43   \n",
      "\n",
      "     worst perimeter  worst area  worst smoothness  worst compactness  \\\n",
      "512           113.30       844.4           0.15740            0.38560   \n",
      "457            91.29       632.9           0.12890            0.10630   \n",
      "439            96.53       688.9           0.10340            0.10170   \n",
      "298           105.80       819.7           0.09445            0.21670   \n",
      "37             84.46       545.9           0.09701            0.04619   \n",
      "..               ...         ...               ...                ...   \n",
      "213           120.40      1021.0           0.12430            0.17930   \n",
      "519            93.63       624.1           0.14750            0.19790   \n",
      "432           146.00      1479.0           0.16650            0.29420   \n",
      "516           142.20      1493.0           0.14920            0.25360   \n",
      "500           109.70       856.9           0.11350            0.21760   \n",
      "\n",
      "     worst concavity  worst concave points  worst symmetry  \\\n",
      "512          0.51060               0.20510          0.3585   \n",
      "457          0.13900               0.06005          0.2444   \n",
      "439          0.06260               0.08216          0.2136   \n",
      "298          0.15650               0.07530          0.2636   \n",
      "37           0.04833               0.05013          0.1987   \n",
      "..               ...                   ...             ...   \n",
      "213          0.28030               0.10990          0.1603   \n",
      "519          0.14230               0.08045          0.3071   \n",
      "432          0.53080               0.21730          0.3032   \n",
      "516          0.37590               0.15100          0.3074   \n",
      "500          0.18560               0.10180          0.2177   \n",
      "\n",
      "     worst fractal dimension  \n",
      "512                  0.11090  \n",
      "457                  0.06788  \n",
      "439                  0.06710  \n",
      "298                  0.07676  \n",
      "37                   0.06169  \n",
      "..                       ...  \n",
      "213                  0.06818  \n",
      "519                  0.08557  \n",
      "432                  0.08075  \n",
      "516                  0.07863  \n",
      "500                  0.08549  \n",
      "\n",
      "[114 rows x 30 columns]\n",
      "512    0\n",
      "457    1\n",
      "439    1\n",
      "298    1\n",
      "37     1\n",
      "      ..\n",
      "213    0\n",
      "519    1\n",
      "432    0\n",
      "516    0\n",
      "500    1\n",
      "Name: target, Length: 114, dtype: int64\n"
     ]
    }
   ],
   "source": [
    "from sklearn.model_selection import train_test_split\n",
    "\n",
    "trainX, testX, trainY, testY = train_test_split(XYData[0], XYData[1], test_size=0.2, random_state=0)\n",
    "print(trainX)\n",
    "print(trainY)\n",
    "print(testX)\n",
    "print(testY)"
   ],
   "metadata": {
    "collapsed": false,
    "ExecuteTime": {
     "end_time": "2024-04-04T23:24:44.308911Z",
     "start_time": "2024-04-04T23:24:43.541457Z"
    }
   },
   "id": "6f91a001681a4101",
   "execution_count": 30
  },
  {
   "cell_type": "markdown",
   "source": [
    "Question 5 \n",
    "\n",
    "Using KNeighborsClassifier, fit a k-nearest neighbors (knn) classifier with X_train, y_train and using one nearest neighbor (n_neighbors = 1). This function should return a sklearn.neighbors.classification.KNeighborsClassifier."
   ],
   "metadata": {
    "collapsed": false
   },
   "id": "b5115c0ef0f9a58f"
  },
  {
   "cell_type": "code",
   "outputs": [],
   "source": [
    "def createKNN(trainX, trainY, n):\n",
    "    classifier=KNeighborsClassifier(n_neighbors=n).fit(trainX, trainY)\n",
    "    return classifier\n",
    "    \n",
    "classifier=createKNN(trainX, trainY, 1)\n",
    "    "
   ],
   "metadata": {
    "collapsed": false,
    "ExecuteTime": {
     "end_time": "2024-04-04T23:24:44.310037Z",
     "start_time": "2024-04-04T23:24:43.796943Z"
    }
   },
   "id": "bf0859d78739b67",
   "execution_count": 31
  },
  {
   "cell_type": "markdown",
   "source": [
    "Question 6 Using your knn classifier, predict the class label using the mean value for each feature. Hint: You can use cancerdf.mean()[:-1].values.reshape(1, -1) which gets the mean value for each feature, ignores the target column, and reshapes the data from 1 dimension to 2 (necessary for the precict method of KNeighborsClassifier). This function should return a numpy array either array([ 0.]) or array([ 1.])"
   ],
   "metadata": {
    "collapsed": false
   },
   "id": "4121667203667c23"
  },
  {
   "cell_type": "code",
   "outputs": [
    {
     "data": {
      "text/plain": "array([1])"
     },
     "execution_count": 44,
     "metadata": {},
     "output_type": "execute_result"
    }
   ],
   "source": [
    "mean_values=cancerDataFrame.mean()[:-1].values.reshape(1, -1)\n",
    "newData=pd.DataFrame(mean_values, columns=cancer.feature_names)\n",
    "classifier.predict(newData)\n"
   ],
   "metadata": {
    "collapsed": false,
    "ExecuteTime": {
     "end_time": "2024-04-04T23:35:37.559240Z",
     "start_time": "2024-04-04T23:35:37.531343Z"
    }
   },
   "id": "66a182477791bfe",
   "execution_count": 44
  },
  {
   "cell_type": "markdown",
   "source": [
    "Question 7 Using your knn classifier, predict the class labels for the test set X_test. This function should return a numpy array with shape (143,) and values either 0.0 or 1.0"
   ],
   "metadata": {
    "collapsed": false
   },
   "id": "a57febb555190ced"
  },
  {
   "cell_type": "code",
   "outputs": [
    {
     "data": {
      "text/plain": "array([1, 1, 1, 0, 1, 1, 1, 1, 1, 1, 0, 1, 1, 1, 0, 0, 1, 0, 0, 0, 0, 1,\n       1, 1, 0, 1, 1, 1, 1, 0, 1, 0, 1, 0, 1, 0, 1, 0, 1, 0, 0, 1, 0, 1,\n       0, 0, 1, 1, 1, 0, 0, 1, 0, 1, 1, 1, 1, 1, 1, 0, 0, 0, 1, 1, 0, 1,\n       0, 0, 0, 1, 1, 0, 1, 1, 0, 1, 1, 1, 1, 1, 0, 0, 0, 1, 0, 1, 1, 1,\n       0, 0, 1, 0, 1, 0, 1, 1, 0, 1, 1, 1, 1, 1, 1, 1, 0, 1, 0, 1, 0, 1,\n       1, 0, 0, 1])"
     },
     "execution_count": 45,
     "metadata": {},
     "output_type": "execute_result"
    }
   ],
   "source": [
    "classifier.predict(testX)"
   ],
   "metadata": {
    "collapsed": false,
    "ExecuteTime": {
     "end_time": "2024-04-04T23:37:07.772857Z",
     "start_time": "2024-04-04T23:37:07.727339Z"
    }
   },
   "id": "4889b222c591e9d4",
   "execution_count": 45
  },
  {
   "cell_type": "markdown",
   "source": [
    "Question 8 Find the score (mean accuracy) of your knn classifier using X_test and y_test. This function should return a float between 0 and 1"
   ],
   "metadata": {
    "collapsed": false
   },
   "id": "8cd78c9e0e443f66"
  },
  {
   "cell_type": "code",
   "outputs": [
    {
     "data": {
      "text/plain": "0.9122807017543859"
     },
     "execution_count": 46,
     "metadata": {},
     "output_type": "execute_result"
    }
   ],
   "source": [
    "classifier.score(testX, testY)"
   ],
   "metadata": {
    "collapsed": false,
    "ExecuteTime": {
     "end_time": "2024-04-04T23:38:12.385033Z",
     "start_time": "2024-04-04T23:38:12.342201Z"
    }
   },
   "id": "17e3a3f3dcce578d",
   "execution_count": 46
  },
  {
   "cell_type": "code",
   "outputs": [],
   "source": [],
   "metadata": {
    "collapsed": false
   },
   "id": "a999b389158449d6"
  }
 ],
 "metadata": {
  "kernelspec": {
   "display_name": "Python 3",
   "language": "python",
   "name": "python3"
  },
  "language_info": {
   "codemirror_mode": {
    "name": "ipython",
    "version": 2
   },
   "file_extension": ".py",
   "mimetype": "text/x-python",
   "name": "python",
   "nbconvert_exporter": "python",
   "pygments_lexer": "ipython2",
   "version": "2.7.6"
  }
 },
 "nbformat": 4,
 "nbformat_minor": 5
}
