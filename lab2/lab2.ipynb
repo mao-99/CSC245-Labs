{
 "cells": [
  {
   "cell_type": "code",
   "execution_count": 2,
   "id": "initial_id",
   "metadata": {
    "collapsed": true,
    "ExecuteTime": {
     "end_time": "2024-03-07T23:44:20.829572Z",
     "start_time": "2024-03-07T23:44:03.587383Z"
    }
   },
   "outputs": [],
   "source": [
    "import pandas as pd\n",
    "import numpy as np\n"
   ]
  },
  {
   "cell_type": "markdown",
   "source": [
    "1. Write a Pandas program to create and display a one-dimensional array-like object containing an array of data using Pandas module.\n"
   ],
   "metadata": {
    "collapsed": false
   },
   "id": "5673f90c07552cf4"
  },
  {
   "cell_type": "code",
   "outputs": [
    {
     "name": "stdout",
     "output_type": "stream",
     "text": [
      "0    1\n",
      "1    2\n",
      "2    3\n",
      "3    4\n",
      "4    5\n",
      "dtype: int64\n"
     ]
    }
   ],
   "source": [
    "data = pd.Series([1, 2, 3, 4, 5]);\n",
    "print(data);"
   ],
   "metadata": {
    "collapsed": false,
    "ExecuteTime": {
     "end_time": "2024-03-07T23:44:20.859879Z",
     "start_time": "2024-03-07T23:44:20.723775Z"
    }
   },
   "id": "cc1a78bdfab2c2ff",
   "execution_count": 3
  },
  {
   "cell_type": "markdown",
   "source": [
    "Write a Pandas program to convert a Panda module Series to Python list and it's type."
   ],
   "metadata": {
    "collapsed": false
   },
   "id": "8e08921e9eefb8fe"
  },
  {
   "cell_type": "code",
   "outputs": [
    {
     "name": "stdout",
     "output_type": "stream",
     "text": [
      "[1, 2, 3, 4, 5]\n",
      "<class 'list'>\n"
     ]
    }
   ],
   "source": [
    "data_list=data.to_list();\n",
    "print(data_list);\n",
    "print(type(data_list));"
   ],
   "metadata": {
    "collapsed": false,
    "ExecuteTime": {
     "end_time": "2024-03-07T23:47:35.873014Z",
     "start_time": "2024-03-07T23:47:35.845429Z"
    }
   },
   "id": "3ead74c1a93f2d46",
   "execution_count": 5
  },
  {
   "cell_type": "markdown",
   "source": [
    "Write a Pandas program to add, subtract, multiple and divide two Pandas Series.\n",
    "Sample Series: [2, 4, 6, 8, 10], [1, 3, 5, 7, 9]"
   ],
   "metadata": {
    "collapsed": false
   },
   "id": "a5381f3f00252c22"
  },
  {
   "cell_type": "code",
   "outputs": [
    {
     "name": "stdout",
     "output_type": "stream",
     "text": [
      "0     3\n",
      "1     7\n",
      "2    10\n",
      "3    13\n",
      "4    19\n",
      "dtype: int64\n",
      "0    1\n",
      "1    1\n",
      "2    0\n",
      "3   -1\n",
      "4    1\n",
      "dtype: int64\n",
      "0     2\n",
      "1    12\n",
      "2    25\n",
      "3    42\n",
      "4    90\n",
      "dtype: int64\n",
      "0    2.000000\n",
      "1    1.333333\n",
      "2    1.000000\n",
      "3    0.857143\n",
      "4    1.111111\n",
      "dtype: float64\n"
     ]
    }
   ],
   "source": [
    "A=pd.Series([2, 4, 5, 6, 10])\n",
    "B=pd.Series([1, 3, 5, 7, 9]);\n",
    "\n",
    "C=A+B;\n",
    "D=A-B\n",
    "E=A*B\n",
    "F=A/B\n",
    "\n",
    "print(C)\n",
    "print(D)\n",
    "print(E)\n",
    "print(F)"
   ],
   "metadata": {
    "collapsed": false,
    "ExecuteTime": {
     "end_time": "2024-03-07T23:49:25.780742Z",
     "start_time": "2024-03-07T23:49:25.751161Z"
    }
   },
   "id": "5722fa3827901b11",
   "execution_count": 6
  },
  {
   "cell_type": "markdown",
   "source": [
    " Write a Pandas program to compare the elements of the two Pandas Series.\n",
    "Sample Series: [2, 4, 6, 8, 10], [1, 3, 5, 7, 10]"
   ],
   "metadata": {
    "collapsed": false
   },
   "id": "759aa55e7e5429f"
  },
  {
   "cell_type": "code",
   "outputs": [
    {
     "name": "stdout",
     "output_type": "stream",
     "text": [
      "0    False\n",
      "1    False\n",
      "2    False\n",
      "3    False\n",
      "4     True\n",
      "dtype: bool\n"
     ]
    }
   ],
   "source": [
    "G=pd.Series([2, 4, 6, 8, 10])\n",
    "H=pd.Series([1, 3, 5, 7, 10])\n",
    "\n",
    "print(G==H)"
   ],
   "metadata": {
    "collapsed": false,
    "ExecuteTime": {
     "end_time": "2024-03-07T23:52:48.774299Z",
     "start_time": "2024-03-07T23:52:48.753270Z"
    }
   },
   "id": "a8cddaa3829f93b8",
   "execution_count": 8
  },
  {
   "cell_type": "markdown",
   "source": [
    "Write a Pandas program to convert a dictionary to a Pandas series. \n",
    "Sample Series: \n",
    "Original dictionary:\n",
    "{'a': 100, 'b': 200, 'c': 300, 'd': 400, 'e': 800}\n",
    "\n",
    "Converted series:\n",
    "a    100\n",
    "b    200\n",
    "c    300\n",
    "d    400\n",
    "e    800\n",
    "dtype: int64"
   ],
   "metadata": {
    "collapsed": false
   },
   "id": "cd438bb9fcb4edaa"
  },
  {
   "cell_type": "code",
   "outputs": [
    {
     "name": "stdout",
     "output_type": "stream",
     "text": [
      "a    100\n",
      "b    200\n",
      "c    300\n",
      "d    400\n",
      "e    800\n",
      "dtype: int64\n"
     ]
    }
   ],
   "source": [
    "myDictionary={'a': 100, 'b': 200, 'c': 300, 'd': 400, 'e': 800}\n",
    "mySeries=pd.Series(myDictionary)\n",
    "print(mySeries)"
   ],
   "metadata": {
    "collapsed": false,
    "ExecuteTime": {
     "end_time": "2024-03-07T23:54:06.092690Z",
     "start_time": "2024-03-07T23:54:06.068401Z"
    }
   },
   "id": "3624ceff739d10fc",
   "execution_count": 9
  },
  {
   "cell_type": "markdown",
   "source": [
    "6. Write a Pandas program to convert a NumPy array to a Pandas series. \n",
    "Sample Series: \n",
    "  NumPy array:\n",
    "[10 20 30 40 50]\n",
    "Converted Pandas series:\n",
    "0    10\n",
    "1    20\n",
    "2    30\n",
    "3    40\n",
    "4    50\n",
    "dtype: int64 "
   ],
   "metadata": {
    "collapsed": false
   },
   "id": "ab391a1cadc9606d"
  },
  {
   "cell_type": "code",
   "outputs": [
    {
     "name": "stdout",
     "output_type": "stream",
     "text": [
      "0    10\n",
      "1    20\n",
      "2    30\n",
      "3    40\n",
      "4    50\n",
      "dtype: int64\n"
     ]
    }
   ],
   "source": [
    "myArray=np.array([10, 20, 30, 40, 50])\n",
    "mySeries=pd.Series(myArray);\n",
    "print(mySeries)\n"
   ],
   "metadata": {
    "collapsed": false,
    "ExecuteTime": {
     "end_time": "2024-03-07T23:56:34.946733Z",
     "start_time": "2024-03-07T23:56:34.908489Z"
    }
   },
   "id": "ab96c8ba736837a6",
   "execution_count": 10
  },
  {
   "cell_type": "markdown",
   "source": [
    "Write a Pandas program to change the data type of given a column or a Series. \n",
    "Sample Series: \n",
    "    Original Data Series:\n",
    "0       100\n",
    "1       200\n",
    "2    python\n",
    "3    300.12\n",
    "4       400\n",
    "dtype: object\n",
    "Change the said data type to numeric:\n",
    "0    100.00\n",
    "1    200.00\n",
    "2       NaN\n",
    "3    300.12\n",
    "4    400.00\n",
    "dtype: float64"
   ],
   "metadata": {
    "collapsed": false
   },
   "id": "98316be6ca34b63d"
  },
  {
   "cell_type": "code",
   "outputs": [
    {
     "name": "stdout",
     "output_type": "stream",
     "text": [
      "0       100\n",
      "1       300\n",
      "2    python\n",
      "3    300.12\n",
      "4       400\n",
      "dtype: object\n",
      "0    100.00\n",
      "1    300.00\n",
      "2       NaN\n",
      "3    300.12\n",
      "4    400.00\n",
      "dtype: float64\n"
     ]
    }
   ],
   "source": [
    "mySeries=pd.Series([100, 300, \"python\",300.12, 400 ])\n",
    "print(mySeries)\n",
    "mySeries=pd.to_numeric(mySeries, errors='coerce')\n",
    "print(mySeries)"
   ],
   "metadata": {
    "collapsed": false,
    "ExecuteTime": {
     "end_time": "2024-03-08T00:02:07.022083Z",
     "start_time": "2024-03-08T00:02:07.004602Z"
    }
   },
   "id": "64fbd2af926f8b1b",
   "execution_count": 15
  },
  {
   "cell_type": "markdown",
   "source": [
    "Write a Pandas program to convert the first column of a DataFrame as a Series. \n",
    "Original DataFrame\n",
    "   col1  col2  col3\n",
    "0     1     4     7\n",
    "1     2     5     5\n",
    "2     3     6     8\n",
    "3     4     9    12\n",
    "4     7     5     1\n",
    "5    11     0    11\n",
    "\n",
    "1st column as a Series:\n",
    "0     1\n",
    "1     2\n",
    "2     3\n",
    "3     4\n",
    "4     7\n",
    "5    11\n",
    "Name: col1, dtype: int64\n",
    "<class 'pandas.core.series.Series'>"
   ],
   "metadata": {
    "collapsed": false
   },
   "id": "ce6041acf50bd65b"
  },
  {
   "cell_type": "code",
   "outputs": [
    {
     "name": "stdout",
     "output_type": "stream",
     "text": [
      "0     1\n",
      "1     2\n",
      "2     3\n",
      "3     4\n",
      "4     7\n",
      "5    11\n",
      "Name: col1, dtype: int64\n"
     ]
    }
   ],
   "source": [
    "data={\n",
    "    'col1': [1, 2, 3, 4, 7, 11],\n",
    "    'col2': [4, 5, 6, 9, 5, 0],\n",
    "     'col3': [7, 5, 8, 12, 1, 11]\n",
    "    \n",
    "}\n",
    "\n",
    "df=pd.DataFrame(data);\n",
    "\n",
    "mySeries=pd.Series(df['col1']);\n",
    "print(mySeries)\n",
    "print(type(mySeries))"
   ],
   "metadata": {
    "collapsed": false,
    "ExecuteTime": {
     "end_time": "2024-03-08T00:06:06.700412Z",
     "start_time": "2024-03-08T00:06:06.609641Z"
    }
   },
   "id": "f2c5f2b4aa6bbd78",
   "execution_count": 17
  },
  {
   "cell_type": "markdown",
   "source": [
    "Write a Pandas program to convert a given Series to an array. \n",
    "Sample Output: \n",
    "Original Data Series:\n",
    "0       100\n",
    "1       200\n",
    "2    python\n",
    "3    300.12\n",
    "4       400\n",
    "dtype: object\n",
    "Series to an array\n",
    "['100' '200' 'python' '300.12' '400']\n",
    "<class 'numpy.ndarray'>\n",
    "\n"
   ],
   "metadata": {
    "collapsed": false
   },
   "id": "e0f38f7379c59a27"
  },
  {
   "cell_type": "code",
   "outputs": [
    {
     "name": "stdout",
     "output_type": "stream",
     "text": [
      "[100 200 'python' 300.12 400]\n"
     ]
    }
   ],
   "source": [
    "mySeries=pd.Series([100, 200, \"python\",300.12, 400 ])\n",
    "print(mySeries.to_numpy())\n",
    "print(type(mySeries.to_numpy()))"
   ],
   "metadata": {
    "collapsed": false,
    "ExecuteTime": {
     "end_time": "2024-03-08T00:07:50.652344Z",
     "start_time": "2024-03-08T00:07:50.629603Z"
    }
   },
   "id": "38fad29aa1c4bee4",
   "execution_count": 19
  },
  {
   "cell_type": "markdown",
   "source": [
    "1.Write a Pandas program to create a dataframe from a dictionary and display it.\n",
    "Sample data: {'X':[78,85,96,80,86], 'Y':[84,94,89,83,86],'Z':[86,97,96,72,83]}\n",
    "Expected Output:\n",
    "    X   Y   Z                                                         \n",
    "0  78  84  86                                                        \n",
    "1  85  94  97                                                         \n",
    "2  96  89  96                                                      \n",
    "3  80  83  72                                                         \n",
    "4  86  86  83 "
   ],
   "metadata": {
    "collapsed": false
   },
   "id": "26c456822836c619"
  },
  {
   "cell_type": "code",
   "outputs": [
    {
     "name": "stdout",
     "output_type": "stream",
     "text": [
      "    X   Y   Z\n",
      "0  78  84  86\n",
      "1  85  94  97\n",
      "2  96  89  96\n",
      "3  80  83  72\n",
      "4  86  86  83\n"
     ]
    }
   ],
   "source": [
    "data={'X':[78,85,96,80,86], 'Y':[84,94,89,83,86],'Z':[86,97,96,72,83]}\n",
    "\n",
    "df=pd.DataFrame(data)\n",
    "print(df)"
   ],
   "metadata": {
    "collapsed": false,
    "ExecuteTime": {
     "end_time": "2024-03-08T00:11:11.617031Z",
     "start_time": "2024-03-08T00:11:11.591887Z"
    }
   },
   "id": "19743b6bf7364e48",
   "execution_count": 20
  },
  {
   "cell_type": "markdown",
   "source": [],
   "metadata": {
    "collapsed": false
   },
   "id": "df3ec78427c37b4e"
  },
  {
   "cell_type": "markdown",
   "source": [
    "Write a Pandas program to create and display a DataFrame from a specified dictionary data which has the index labels.\n",
    "Sample Python dictionary data and list labels:\n",
    "exam_data = {'name': ['Anastasia', 'Dima', 'Katherine', 'James', 'Emily', 'Michael', 'Matthew', 'Laura', 'Kevin', 'Jonas'],\n",
    "'score': [12.5, 9, 16.5, np.nan, 9, 20, 14.5, np.nan, 8, 19],\n",
    "'attempts': [1, 3, 2, 3, 2, 3, 1, 1, 2, 1],\n",
    "'qualify': ['yes', 'no', 'yes', 'no', 'no', 'yes', 'yes', 'no', 'no', 'yes']}\n",
    "labels = ['a', 'b', 'c', 'd', 'e', 'f', 'g', 'h', 'i', 'j']"
   ],
   "metadata": {
    "collapsed": false
   },
   "id": "d96e56e3c5bb7cc2"
  },
  {
   "cell_type": "code",
   "outputs": [
    {
     "name": "stdout",
     "output_type": "stream",
     "text": [
      "   attempts       name qualify  score\n",
      "a         1  Anastasia     yes   12.5\n",
      "b         3       Dima      no    9.0\n",
      "c         2  Katherine     yes   16.5\n",
      "d         3      James      no    NaN\n",
      "e         2      Emily      no    9.0\n",
      "f         3    Michael     yes   20.0\n",
      "g         1    Matthew     yes   14.5\n",
      "h         1      Laura      no    NaN\n",
      "i         2      Kevin      no    8.0\n",
      "j         1      Jonas     yes   19.0\n"
     ]
    }
   ],
   "source": [
    "exam_data = {'name': ['Anastasia', 'Dima', 'Katherine', 'James', 'Emily', 'Michael', 'Matthew', 'Laura', 'Kevin', 'Jonas'],\n",
    "'score': [12.5, 9, 16.5, np.nan, 9, 20, 14.5, np.nan, 8, 19],\n",
    "'attempts': [1, 3, 2, 3, 2, 3, 1, 1, 2, 1],\n",
    "'qualify': ['yes', 'no', 'yes', 'no', 'no', 'yes', 'yes', 'no', 'no', 'yes']}\n",
    "labels = ['a', 'b', 'c', 'd', 'e', 'f', 'g', 'h', 'i', 'j']\n",
    "\n",
    "column_order = ['attempts', 'name', 'qualify', 'score']\n",
    "df=pd.DataFrame(exam_data, labels, columns=column_order);\n",
    "\n",
    "print(df)"
   ],
   "metadata": {
    "collapsed": false,
    "ExecuteTime": {
     "end_time": "2024-03-08T00:17:02.140494Z",
     "start_time": "2024-03-08T00:17:02.112009Z"
    }
   },
   "id": "8b4bfc508f0c5139",
   "execution_count": 22
  },
  {
   "cell_type": "markdown",
   "source": [
    "Write a Pandas program to display a summary of the basic information about a specified DataFrame and its data.\n",
    "Sample Python dictionary data and list labels:\n",
    "exam_data = {'name': ['Anastasia', 'Dima', 'Katherine', 'James', 'Emily', 'Michael', 'Matthew', 'Laura', 'Kevin', 'Jonas'],\n",
    "'score': [12.5, 9, 16.5, np.nan, 9, 20, 14.5, np.nan, 8, 19],\n",
    "'attempts': [1, 3, 2, 3, 2, 3, 1, 1, 2, 1],\n",
    "'qualify': ['yes', 'no', 'yes', 'no', 'no', 'yes', 'yes', 'no', 'no', 'yes']}\n",
    "labels = ['a', 'b', 'c', 'd', 'e', 'f', 'g', 'h', 'i', 'j']\n",
    "Expected Output:\n",
    "  Summary of the basic information about this DataFrame and its data:\n",
    "<class 'pandas.core.frame.DataFrame'>\n",
    "Index: 10 entries, a to j\n",
    "Data columns (total 4 columns):\n",
    "....\n",
    "dtypes: float64(1), int64(1), object(2)\n",
    "memory usage: 400.0+ bytes\n",
    "None "
   ],
   "metadata": {
    "collapsed": false
   },
   "id": "9888fe30c94de45"
  },
  {
   "cell_type": "code",
   "outputs": [
    {
     "name": "stdout",
     "output_type": "stream",
     "text": [
      "<class 'pandas.core.frame.DataFrame'>\n",
      "Index: 10 entries, a to j\n",
      "Data columns (total 4 columns):\n",
      " #   Column    Non-Null Count  Dtype  \n",
      "---  ------    --------------  -----  \n",
      " 0   attempts  10 non-null     int64  \n",
      " 1   name      10 non-null     object \n",
      " 2   qualify   10 non-null     object \n",
      " 3   score     8 non-null      float64\n",
      "dtypes: float64(1), int64(1), object(2)\n",
      "memory usage: 400.0+ bytes\n",
      "None\n"
     ]
    }
   ],
   "source": [
    "print(df.info())"
   ],
   "metadata": {
    "collapsed": false,
    "ExecuteTime": {
     "end_time": "2024-03-08T00:18:28.595574Z",
     "start_time": "2024-03-08T00:18:28.487627Z"
    }
   },
   "id": "6d89538ee233e87c",
   "execution_count": 24
  },
  {
   "cell_type": "markdown",
   "source": [
    "Write a Pandas program to get the first 3 rows of a given DataFrame.\n",
    "Sample Python dictionary data and list labels:\n",
    "exam_data = {'name': ['Anastasia', 'Dima', 'Katherine', 'James', 'Emily', 'Michael', 'Matthew', 'Laura', 'Kevin', 'Jonas'],\n",
    "'score': [12.5, 9, 16.5, np.nan, 9, 20, 14.5, np.nan, 8, 19],\n",
    "'attempts': [1, 3, 2, 3, 2, 3, 1, 1, 2, 1],\n",
    "'qualify': ['yes', 'no', 'yes', 'no', 'no', 'yes', 'yes', 'no', 'no', 'yes']}\n",
    "labels = ['a', 'b', 'c', 'd', 'e', 'f', 'g', 'h', 'i', 'j']\n",
    "Expected Output:\n",
    "First three rows of the data frame:                                   \n",
    "   attempts       name qualify  score                              \n",
    "a         1  Anastasia     yes   12.5                                 \n",
    "b         3       Dima      no    9.0                                 \n",
    "c         2  Katherine     yes   16.5"
   ],
   "metadata": {
    "collapsed": false
   },
   "id": "b1584c1cbc45c6ae"
  },
  {
   "cell_type": "code",
   "outputs": [
    {
     "name": "stdout",
     "output_type": "stream",
     "text": [
      "   attempts       name qualify  score\n",
      "a         1  Anastasia     yes   12.5\n",
      "b         3       Dima      no    9.0\n",
      "c         2  Katherine     yes   16.5\n"
     ]
    }
   ],
   "source": [
    "print(df[0:3])"
   ],
   "metadata": {
    "collapsed": false,
    "ExecuteTime": {
     "end_time": "2024-03-08T00:19:04.922009Z",
     "start_time": "2024-03-08T00:19:04.893104Z"
    }
   },
   "id": "47e5a5aa0029e499",
   "execution_count": 25
  },
  {
   "cell_type": "markdown",
   "source": [
    " Write a Pandas program to select the 'name' and 'score' columns from the following DataFrame.\n",
    "Sample Python dictionary data and list labels:\n",
    "exam_data = {'name': ['Anastasia', 'Dima', 'Katherine', 'James', 'Emily', 'Michael', 'Matthew', 'Laura', 'Kevin', 'Jonas'],\n",
    "'score': [12.5, 9, 16.5, np.nan, 9, 20, 14.5, np.nan, 8, 19],\n",
    "'attempts': [1, 3, 2, 3, 2, 3, 1, 1, 2, 1],\n",
    "'qualify': ['yes', 'no', 'yes', 'no', 'no', 'yes', 'yes', 'no', 'no', 'yes']}\n",
    "labels = ['a', 'b', 'c', 'd', 'e', 'f', 'g', 'h', 'i', 'j']\n",
    "Expected Output:\n",
    "Select specific columns:                                               \n",
    "        name  score                                                  \n",
    "a  Anastasia   12.5                                                   \n",
    "b       Dima    9.0                                                \n",
    "c  Katherine   16.5                                                    \n",
    "...                                                  \n",
    "h      Laura    NaN                                                   \n",
    "i      Kevin    8.0                                                  \n",
    "j      Jonas   19.0\n"
   ],
   "metadata": {
    "collapsed": false
   },
   "id": "238b8f683298f2d5"
  },
  {
   "cell_type": "code",
   "outputs": [
    {
     "name": "stdout",
     "output_type": "stream",
     "text": [
      "        name  score\n",
      "a  Anastasia   12.5\n",
      "b       Dima    9.0\n",
      "c  Katherine   16.5\n",
      "d      James    NaN\n",
      "e      Emily    9.0\n",
      "f    Michael   20.0\n",
      "g    Matthew   14.5\n",
      "h      Laura    NaN\n",
      "i      Kevin    8.0\n",
      "j      Jonas   19.0\n"
     ]
    }
   ],
   "source": [
    "print(df[['name', 'score']])"
   ],
   "metadata": {
    "collapsed": false,
    "ExecuteTime": {
     "end_time": "2024-03-08T00:24:10.802655Z",
     "start_time": "2024-03-08T00:24:10.776960Z"
    }
   },
   "id": "162cd54067a16ce3",
   "execution_count": 32
  },
  {
   "cell_type": "markdown",
   "source": [
    "Write a Pandas program to select the specified columns and rows from a given data frame.\n",
    "Sample Python dictionary data and list labels:\n",
    "Select 'name' and 'score' columns in rows 1, 3, 5, 6 from the following data frame.\n",
    "exam_data = {'name': ['Anastasia', 'Dima', 'Katherine', 'James', 'Emily', 'Michael', 'Matthew', 'Laura', 'Kevin', 'Jonas'],\n",
    "'score': [12.5, 9, 16.5, np.nan, 9, 20, 14.5, np.nan, 8, 19],\n",
    "'attempts': [1, 3, 2, 3, 2, 3, 1, 1, 2, 1],\n",
    "'qualify': ['yes', 'no', 'yes', 'no', 'no', 'yes', 'yes', 'no', 'no', 'yes']}\n",
    "labels = ['a', 'b', 'c', 'd', 'e', 'f', 'g', 'h', 'i', 'j']\n",
    "Expected Output:\n",
    "Select specific columns and rows:\n",
    "   score qualify\n",
    "b    9.0      no\n",
    "d    NaN      no\n",
    "f   20.0     yes\n",
    "g   14.5     yes"
   ],
   "metadata": {
    "collapsed": false
   },
   "id": "308fea95696190b7"
  },
  {
   "cell_type": "code",
   "outputs": [
    {
     "name": "stdout",
     "output_type": "stream",
     "text": [
      "   score qualify\n",
      "b    9.0      no\n",
      "d    NaN      no\n",
      "f   20.0     yes\n",
      "g   14.5     yes\n"
     ]
    }
   ],
   "source": [
    "mySubset=df.loc[['b', 'd', 'f', 'g']][[\"score\", \"qualify\" ]]\n",
    "print(mySubset);"
   ],
   "metadata": {
    "collapsed": false,
    "ExecuteTime": {
     "end_time": "2024-03-08T00:29:35.918052Z",
     "start_time": "2024-03-08T00:29:35.846794Z"
    }
   },
   "id": "51539c72b3c968b3",
   "execution_count": 40
  },
  {
   "cell_type": "markdown",
   "source": [],
   "metadata": {
    "collapsed": false
   },
   "id": "4214a6745003b13e"
  },
  {
   "cell_type": "markdown",
   "source": [
    "7. Write a Pandas program to select the rows where the number of attempts in the examination is greater than 2.\n",
    "Sample Python dictionary data and list labels:\n",
    "exam_data = {'name': ['Anastasia', 'Dima', 'Katherine', 'James', 'Emily', 'Michael', 'Matthew', 'Laura', 'Kevin', 'Jonas'],\n",
    "'score': [12.5, 9, 16.5, np.nan, 9, 20, 14.5, np.nan, 8, 19],\n",
    "'attempts': [1, 3, 2, 3, 2, 3, 1, 1, 2, 1],\n",
    "'qualify': ['yes', 'no', 'yes', 'no', 'no', 'yes', 'yes', 'no', 'no', 'yes']}\n",
    "labels = ['a', 'b', 'c', 'd', 'e', 'f', 'g', 'h', 'i', 'j']\n",
    "Expected Output:\n",
    "Number of attempts in the examination is greater than 2:\n",
    "      name  score  attempts qualify\n",
    "b     Dima    9.0         3      no\n",
    "d    James    NaN         3      no\n",
    "f  Michael   20.0         3     yes"
   ],
   "metadata": {
    "collapsed": false
   },
   "id": "ad8fc1b151dfce14"
  },
  {
   "cell_type": "code",
   "outputs": [
    {
     "name": "stdout",
     "output_type": "stream",
     "text": [
      "   attempts     name qualify  score\n",
      "b         3     Dima      no    9.0\n",
      "d         3    James      no    NaN\n",
      "f         3  Michael     yes   20.0\n"
     ]
    }
   ],
   "source": [
    "mySubset=df[df['attempts']>2]\n",
    "print(mySubset)"
   ],
   "metadata": {
    "collapsed": false,
    "ExecuteTime": {
     "end_time": "2024-03-08T00:31:44.170786Z",
     "start_time": "2024-03-08T00:31:44.138577Z"
    }
   },
   "id": "cb0bb5b304772aa9",
   "execution_count": 41
  },
  {
   "cell_type": "markdown",
   "source": [
    "Write a Pandas program to count the number of rows and columns of a DataFrame.\n",
    "Sample Python dictionary data and list labels:\n",
    "exam_data = {'name': ['Anastasia', 'Dima', 'Katherine', 'James', 'Emily', 'Michael', 'Matthew', 'Laura', 'Kevin', 'Jonas'],\n",
    "'score': [12.5, 9, 16.5, np.nan, 9, 20, 14.5, np.nan, 8, 19],\n",
    "'attempts': [1, 3, 2, 3, 2, 3, 1, 1, 2, 1],\n",
    "'qualify': ['yes', 'no', 'yes', 'no', 'no', 'yes', 'yes', 'no', 'no', 'yes']}\n",
    "labels = ['a', 'b', 'c', 'd', 'e', 'f', 'g', 'h', 'i', 'j']\n",
    "Expected Output:\n",
    "Number of Rows: 10                                                    \n",
    "Number of Columns: 4"
   ],
   "metadata": {
    "collapsed": false
   },
   "id": "b247939e3b6214e1"
  },
  {
   "cell_type": "code",
   "outputs": [
    {
     "name": "stdout",
     "output_type": "stream",
     "text": [
      "Rows: 10\n",
      "Columns: 4\n",
      "(10, 4)\n"
     ]
    }
   ],
   "source": [
    "##Note: We can also use df.shape to get the dimensions as a tuple. Probably more straightforward. Use next time\n",
    "\n",
    "cols=0;\n",
    "for x in df:\n",
    "    cols=cols+1\n",
    "rows=0\n",
    "for y in df[\"name\"]:\n",
    "    rows=rows+1;\n",
    "    \n",
    "print(\"Rows: \" + str(rows) )\n",
    "print(\"Columns: \" + str(cols))\n"
   ],
   "metadata": {
    "collapsed": false,
    "ExecuteTime": {
     "end_time": "2024-03-08T00:38:23.779510Z",
     "start_time": "2024-03-08T00:38:23.739348Z"
    }
   },
   "id": "f4565ea422201274",
   "execution_count": 46
  },
  {
   "cell_type": "markdown",
   "source": [
    "Write a Pandas program to select the rows where the score is missing, i.e. is NaN.\n",
    "Sample Python dictionary data and list labels:\n",
    "exam_data = {'name': ['Anastasia', 'Dima', 'Katherine', 'James', 'Emily', 'Michael', 'Matthew', 'Laura', 'Kevin', 'Jonas'],\n",
    "'score': [12.5, 9, 16.5, np.nan, 9, 20, 14.5, np.nan, 8, 19],\n",
    "'attempts': [1, 3, 2, 3, 2, 3, 1, 1, 2, 1],\n",
    "'qualify': ['yes', 'no', 'yes', 'no', 'no', 'yes', 'yes', 'no', 'no', 'yes']}\n",
    "labels = ['a', 'b', 'c', 'd', 'e', 'f', 'g', labels = ['a', 'b', 'c', 'd', 'e', 'f', 'g', 'h', 'i', 'j']\n",
    "Expected Output:\n",
    "Rows where score is missing:\n",
    "   attempts   name qualify  score\n",
    "d         3  James      no    NaN\n",
    "h         1  Laura      no    NaN\n"
   ],
   "metadata": {
    "collapsed": false
   },
   "id": "35a63254d8ddeb10"
  },
  {
   "cell_type": "code",
   "outputs": [
    {
     "name": "stdout",
     "output_type": "stream",
     "text": [
      "   attempts   name qualify  score\n",
      "d         3  James      no    NaN\n",
      "h         1  Laura      no    NaN\n"
     ]
    }
   ],
   "source": [
    "mySubset=df[df['score'].isnull()]\n",
    "print(mySubset)"
   ],
   "metadata": {
    "collapsed": false,
    "ExecuteTime": {
     "end_time": "2024-03-08T00:42:05.712321Z",
     "start_time": "2024-03-08T00:42:05.685028Z"
    }
   },
   "id": "379d5c83d18c22d5",
   "execution_count": 49
  },
  {
   "cell_type": "markdown",
   "source": [
    "Write a Pandas program to select the rows the score is between 15 and 20 (inclusive).\n",
    "Sample Python dictionary data and list labels:\n",
    "exam_data = {'name': ['Anastasia', 'Dima', 'Katherine', 'James', 'Emily', 'Michael', 'Matthew', 'Laura', 'Kevin', 'Jonas'],\n",
    "'score': [12.5, 9, 16.5, np.nan, 9, 20, 14.5, np.nan, 8, 19],\n",
    "'attempts': [1, 3, 2, 3, 2, 3, 1, 1, 2, 1],\n",
    "'qualify': ['yes', 'no', 'yes', 'no', 'no', 'yes', 'yes', 'no', 'no', 'yes']}\n",
    "labels = ['a', 'b', 'c', 'd', 'e', 'f', 'g', labels = ['a', 'b', 'c', 'd', 'e', 'f', 'g', 'h', 'i', 'j']"
   ],
   "metadata": {
    "collapsed": false
   },
   "id": "714c9e7538c3e77e"
  },
  {
   "cell_type": "markdown",
   "source": [],
   "metadata": {
    "collapsed": false
   },
   "id": "3ca7665d34ccc1eb"
  },
  {
   "cell_type": "code",
   "outputs": [
    {
     "name": "stdout",
     "output_type": "stream",
     "text": [
      "   attempts       name qualify  score\n",
      "c         2  Katherine     yes   16.5\n",
      "f         3    Michael     yes   20.0\n",
      "j         1      Jonas     yes   19.0\n"
     ]
    }
   ],
   "source": [
    "#Note: You can also use this method, to do it in one line \n",
    "#Tried but messed up syntax so switched to this\n",
    "#mySubset = df[(df['score'] >= 15) & (df['score'] <= 20)]\n",
    "\n",
    "mySubset=df[df[\"score\"]>=15 ]\n",
    "mySubset=mySubset[mySubset[\"score\"]<=20]\n",
    "\n",
    "\n",
    "\n",
    "print(mySubset)"
   ],
   "metadata": {
    "collapsed": false,
    "ExecuteTime": {
     "end_time": "2024-03-08T00:46:46.798641Z",
     "start_time": "2024-03-08T00:46:46.769530Z"
    }
   },
   "id": "5577aa2b3617d24c",
   "execution_count": 51
  },
  {
   "cell_type": "code",
   "outputs": [],
   "source": [],
   "metadata": {
    "collapsed": false
   },
   "id": "6e2488bd0ba232e6"
  }
 ],
 "metadata": {
  "kernelspec": {
   "display_name": "Python 3",
   "language": "python",
   "name": "python3"
  },
  "language_info": {
   "codemirror_mode": {
    "name": "ipython",
    "version": 2
   },
   "file_extension": ".py",
   "mimetype": "text/x-python",
   "name": "python",
   "nbconvert_exporter": "python",
   "pygments_lexer": "ipython2",
   "version": "2.7.6"
  }
 },
 "nbformat": 4,
 "nbformat_minor": 5
}
